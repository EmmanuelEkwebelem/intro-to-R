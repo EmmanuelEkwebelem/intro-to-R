{
 "cells": [
  {
   "cell_type": "code",
   "execution_count": 1,
   "id": "afb6d880",
   "metadata": {
    "scrolled": false,
    "vscode": {
     "languageId": "r"
    }
   },
   "outputs": [],
   "source": [
    "x <- 12"
   ]
  },
  {
   "cell_type": "code",
   "execution_count": 2,
   "id": "f9ca68e9",
   "metadata": {
    "scrolled": true,
    "vscode": {
     "languageId": "r"
    }
   },
   "outputs": [],
   "source": [
    "# create vector of integers from 0 to 9\n",
    "some_numbers <- c(0,1,2,3,4,5,6,7,8,9)\n",
    "\n",
    "# alternatively \n",
    "some_numbers <- c(0:9)"
   ]
  },
  {
   "cell_type": "code",
   "execution_count": 3,
   "id": "c7ddffdd",
   "metadata": {
    "vscode": {
     "languageId": "r"
    }
   },
   "outputs": [
    {
     "data": {
      "text/html": [
       "4.5"
      ],
      "text/latex": [
       "4.5"
      ],
      "text/markdown": [
       "4.5"
      ],
      "text/plain": [
       "[1] 4.5"
      ]
     },
     "metadata": {},
     "output_type": "display_data"
    }
   ],
   "source": [
    "mean(some_numbers)"
   ]
  },
  {
   "cell_type": "code",
   "execution_count": 4,
   "id": "3a53dcb8",
   "metadata": {
    "vscode": {
     "languageId": "r"
    }
   },
   "outputs": [
    {
     "name": "stderr",
     "output_type": "stream",
     "text": [
      "Installing package into 'C:/Users/emman/AppData/Local/R/win-library/4.2'\n",
      "(as 'lib' is unspecified)\n",
      "\n"
     ]
    },
    {
     "name": "stdout",
     "output_type": "stream",
     "text": [
      "package 'tidyverse' successfully unpacked and MD5 sums checked\n",
      "\n",
      "The downloaded binary packages are in\n",
      "\tC:\\Users\\emman\\AppData\\Local\\Temp\\RtmpEhWteb\\downloaded_packages\n"
     ]
    }
   ],
   "source": [
    "install.packages('tidyverse')"
   ]
  },
  {
   "cell_type": "code",
   "execution_count": 5,
   "id": "d73d94af",
   "metadata": {
    "vscode": {
     "languageId": "r"
    }
   },
   "outputs": [
    {
     "name": "stderr",
     "output_type": "stream",
     "text": [
      "── \u001b[1mAttaching packages\u001b[22m ─────────────────────────────────────── tidyverse 1.3.2 ──\n",
      "\u001b[32m✔\u001b[39m \u001b[34mggplot2\u001b[39m 3.3.6      \u001b[32m✔\u001b[39m \u001b[34mpurrr  \u001b[39m 0.3.5 \n",
      "\u001b[32m✔\u001b[39m \u001b[34mtibble \u001b[39m 3.1.8      \u001b[32m✔\u001b[39m \u001b[34mdplyr  \u001b[39m 1.0.10\n",
      "\u001b[32m✔\u001b[39m \u001b[34mtidyr  \u001b[39m 1.2.1      \u001b[32m✔\u001b[39m \u001b[34mstringr\u001b[39m 1.4.1 \n",
      "\u001b[32m✔\u001b[39m \u001b[34mreadr  \u001b[39m 2.1.3      \u001b[32m✔\u001b[39m \u001b[34mforcats\u001b[39m 0.5.2 \n",
      "── \u001b[1mConflicts\u001b[22m ────────────────────────────────────────── tidyverse_conflicts() ──\n",
      "\u001b[31m✖\u001b[39m \u001b[34mdplyr\u001b[39m::\u001b[32mfilter()\u001b[39m masks \u001b[34mstats\u001b[39m::filter()\n",
      "\u001b[31m✖\u001b[39m \u001b[34mdplyr\u001b[39m::\u001b[32mlag()\u001b[39m    masks \u001b[34mstats\u001b[39m::lag()\n"
     ]
    }
   ],
   "source": [
    "library(tidyverse)"
   ]
  },
  {
   "cell_type": "code",
   "execution_count": 6,
   "id": "bcf67653",
   "metadata": {
    "vscode": {
     "languageId": "r"
    }
   },
   "outputs": [
    {
     "name": "stderr",
     "output_type": "stream",
     "text": [
      "Warning message:\n",
      "\"package 'dplyr' is in use and will not be installed\"\n"
     ]
    }
   ],
   "source": [
    "install.packages('dplyr')"
   ]
  },
  {
   "cell_type": "code",
   "execution_count": 7,
   "id": "94e09fa8",
   "metadata": {
    "vscode": {
     "languageId": "r"
    }
   },
   "outputs": [],
   "source": [
    "library(dplyr)"
   ]
  },
  {
   "cell_type": "code",
   "execution_count": 8,
   "id": "3b9d1ea2",
   "metadata": {
    "vscode": {
     "languageId": "r"
    }
   },
   "outputs": [],
   "source": [
    "paygap <- read.csv('C:/Users/emman/Desktop/HHA 507/intro-to-R/Part-2/data/UK Gender Pay Gap Data - 2019 to 2020.csv', header = TRUE)"
   ]
  },
  {
   "cell_type": "code",
   "execution_count": 9,
   "id": "afb0659a",
   "metadata": {
    "vscode": {
     "languageId": "r"
    }
   },
   "outputs": [
    {
     "data": {
      "text/html": [
       "<table class=\"dataframe\">\n",
       "<caption>A data.frame: 5 × 27</caption>\n",
       "<thead>\n",
       "\t<tr><th></th><th scope=col>EmployerName</th><th scope=col>EmployerId</th><th scope=col>Address</th><th scope=col>PostCode</th><th scope=col>CompanyNumber</th><th scope=col>SicCodes</th><th scope=col>DiffMeanHourlyPercent</th><th scope=col>DiffMedianHourlyPercent</th><th scope=col>DiffMeanBonusPercent</th><th scope=col>DiffMedianBonusPercent</th><th scope=col>⋯</th><th scope=col>FemaleUpperMiddleQuartile</th><th scope=col>MaleTopQuartile</th><th scope=col>FemaleTopQuartile</th><th scope=col>CompanyLinkToGPGInfo</th><th scope=col>ResponsiblePerson</th><th scope=col>EmployerSize</th><th scope=col>CurrentName</th><th scope=col>SubmittedAfterTheDeadline</th><th scope=col>DueDate</th><th scope=col>DateSubmitted</th></tr>\n",
       "\t<tr><th></th><th scope=col>&lt;chr&gt;</th><th scope=col>&lt;int&gt;</th><th scope=col>&lt;chr&gt;</th><th scope=col>&lt;chr&gt;</th><th scope=col>&lt;chr&gt;</th><th scope=col>&lt;chr&gt;</th><th scope=col>&lt;dbl&gt;</th><th scope=col>&lt;dbl&gt;</th><th scope=col>&lt;dbl&gt;</th><th scope=col>&lt;dbl&gt;</th><th scope=col>⋯</th><th scope=col>&lt;dbl&gt;</th><th scope=col>&lt;dbl&gt;</th><th scope=col>&lt;dbl&gt;</th><th scope=col>&lt;chr&gt;</th><th scope=col>&lt;chr&gt;</th><th scope=col>&lt;chr&gt;</th><th scope=col>&lt;chr&gt;</th><th scope=col>&lt;chr&gt;</th><th scope=col>&lt;chr&gt;</th><th scope=col>&lt;chr&gt;</th></tr>\n",
       "</thead>\n",
       "<tbody>\n",
       "\t<tr><th scope=row>1</th><td>'PRIFYSGOL ABERYSTWYTH' AND 'ABERYSTWYTH UNIVERSITY'</td><td>19070</td><td>Aberystwyth University, Penglais, Ceredigion, SY23 3FL                            </td><td>SY23 3FL</td><td>RC000641</td><td>                     </td><td>11.5</td><td>10.3</td><td>    NA</td><td>    NA</td><td>⋯</td><td>60.0</td><td>62.0</td><td>38.0</td><td>https://www.aber.ac.uk/en/equality/genderpaygapreporting2019/ \n",
       "\n",
       "https://www.aber.ac.uk/cy/equality/gender-pay-gap/</td><td>Elizabeth Treasure (Vice-Chancellor)          </td><td>1000 to 4999</td><td>'PRIFYSGOL ABERYSTWYTH' AND 'ABERYSTWYTH UNIVERSITY'</td><td>False</td><td>2020/04/05 00:00:00</td><td>2020/04/03 14:47:45</td></tr>\n",
       "\t<tr><th scope=row>2</th><td>10 TRINITY SQUARE HOTEL LIMITED                     </td><td>19455</td><td>5 Market Yard Mews, 194-204 Bermondsey Street, London, United Kingdom, SE1 3TQ    </td><td>SE1 3TQ </td><td>08064685</td><td>82990                </td><td> 8.7</td><td>10.3</td><td>  29.6</td><td>  54.5</td><td>⋯</td><td>21.1</td><td>66.7</td><td>33.3</td><td>                                                                                                                    </td><td>Linda Stigter (Director of People and Culture)</td><td>250 to 499  </td><td>10 TRINITY SQUARE HOTEL LIMITED                     </td><td>False</td><td>2020/04/05 00:00:00</td><td>2020/03/19 15:51:20</td></tr>\n",
       "\t<tr><th scope=row>3</th><td>1LIFE MANAGEMENT SOLUTIONS LIMITED                  </td><td>  687</td><td>Ldh House St Ives Business Park, Parsons Green, St. Ives, Cambridgeshire, PE27 4AA</td><td>PE27 4AA</td><td>02566586</td><td>93110,\n",
       "93130,\n",
       "93290</td><td>11.0</td><td>-0.5</td><td>  81.5</td><td>  94.2</td><td>⋯</td><td>57.7</td><td>44.2</td><td>55.8</td><td>https://www.1life.co.uk/gender-pay-gap                                                                              </td><td>Mark Braithwaite (Managing Director)          </td><td>250 to 499  </td><td>1LIFE MANAGEMENT SOLUTIONS LIMITED                  </td><td>False</td><td>2020/04/05 00:00:00</td><td>2020/03/10 17:03:17</td></tr>\n",
       "\t<tr><th scope=row>4</th><td>1ST CHOICE STAFF RECRUITMENT LIMITED                </td><td>18136</td><td>1ST CHOICE RECRUITMENT, 8 St. Loyes Street, Bedford, MK40 1EP                     </td><td>MK40 1EP</td><td>07972006</td><td>78109                </td><td>-2.3</td><td> 0.0</td><td>-114.8</td><td>-249.3</td><td>⋯</td><td>37.1</td><td>50.0</td><td>50.0</td><td>https://www.1stchoice.net/gender-pay-gap-report-2019/                                                               </td><td>Gill Knight (MD)                              </td><td>250 to 499  </td><td>1ST CHOICE STAFF RECRUITMENT LIMITED                </td><td>False</td><td>2020/04/05 00:00:00</td><td>2020/01/24 09:37:01</td></tr>\n",
       "\t<tr><th scope=row>5</th><td>1ST HOME CARE LTD.                                  </td><td>17484</td><td>Real Life Options, 35 East Port, Dunfermline, Fife, Scotland, KY12 7LG            </td><td>KY12 7LG</td><td>SC272838</td><td>86900,\n",
       "88100        </td><td>-2.0</td><td> 0.5</td><td>    NA</td><td>    NA</td><td>⋯</td><td>91.0</td><td> 9.0</td><td>91.0</td><td>https://reallifeoptions.org/                                                                                        </td><td>Ian Hardcastle (Chief Operating Officer)      </td><td>250 to 499  </td><td>1ST HOME CARE LTD.                                  </td><td>False</td><td>2020/04/05 00:00:00</td><td>2020/03/12 08:21:06</td></tr>\n",
       "</tbody>\n",
       "</table>\n"
      ],
      "text/latex": [
       "A data.frame: 5 × 27\n",
       "\\begin{tabular}{r|lllllllllllllllllllll}\n",
       "  & EmployerName & EmployerId & Address & PostCode & CompanyNumber & SicCodes & DiffMeanHourlyPercent & DiffMedianHourlyPercent & DiffMeanBonusPercent & DiffMedianBonusPercent & ⋯ & FemaleUpperMiddleQuartile & MaleTopQuartile & FemaleTopQuartile & CompanyLinkToGPGInfo & ResponsiblePerson & EmployerSize & CurrentName & SubmittedAfterTheDeadline & DueDate & DateSubmitted\\\\\n",
       "  & <chr> & <int> & <chr> & <chr> & <chr> & <chr> & <dbl> & <dbl> & <dbl> & <dbl> & ⋯ & <dbl> & <dbl> & <dbl> & <chr> & <chr> & <chr> & <chr> & <chr> & <chr> & <chr>\\\\\n",
       "\\hline\n",
       "\t1 & 'PRIFYSGOL ABERYSTWYTH' AND 'ABERYSTWYTH UNIVERSITY' & 19070 & Aberystwyth University, Penglais, Ceredigion, SY23 3FL                             & SY23 3FL & RC000641 &                       & 11.5 & 10.3 &     NA &     NA & ⋯ & 60.0 & 62.0 & 38.0 & https://www.aber.ac.uk/en/equality/genderpaygapreporting2019/ \n",
       "\n",
       "https://www.aber.ac.uk/cy/equality/gender-pay-gap/ & Elizabeth Treasure (Vice-Chancellor)           & 1000 to 4999 & 'PRIFYSGOL ABERYSTWYTH' AND 'ABERYSTWYTH UNIVERSITY' & False & 2020/04/05 00:00:00 & 2020/04/03 14:47:45\\\\\n",
       "\t2 & 10 TRINITY SQUARE HOTEL LIMITED                      & 19455 & 5 Market Yard Mews, 194-204 Bermondsey Street, London, United Kingdom, SE1 3TQ     & SE1 3TQ  & 08064685 & 82990                 &  8.7 & 10.3 &   29.6 &   54.5 & ⋯ & 21.1 & 66.7 & 33.3 &                                                                                                                      & Linda Stigter (Director of People and Culture) & 250 to 499   & 10 TRINITY SQUARE HOTEL LIMITED                      & False & 2020/04/05 00:00:00 & 2020/03/19 15:51:20\\\\\n",
       "\t3 & 1LIFE MANAGEMENT SOLUTIONS LIMITED                   &   687 & Ldh House St Ives Business Park, Parsons Green, St. Ives, Cambridgeshire, PE27 4AA & PE27 4AA & 02566586 & 93110,\n",
       "93130,\n",
       "93290 & 11.0 & -0.5 &   81.5 &   94.2 & ⋯ & 57.7 & 44.2 & 55.8 & https://www.1life.co.uk/gender-pay-gap                                                                               & Mark Braithwaite (Managing Director)           & 250 to 499   & 1LIFE MANAGEMENT SOLUTIONS LIMITED                   & False & 2020/04/05 00:00:00 & 2020/03/10 17:03:17\\\\\n",
       "\t4 & 1ST CHOICE STAFF RECRUITMENT LIMITED                 & 18136 & 1ST CHOICE RECRUITMENT, 8 St. Loyes Street, Bedford, MK40 1EP                      & MK40 1EP & 07972006 & 78109                 & -2.3 &  0.0 & -114.8 & -249.3 & ⋯ & 37.1 & 50.0 & 50.0 & https://www.1stchoice.net/gender-pay-gap-report-2019/                                                                & Gill Knight (MD)                               & 250 to 499   & 1ST CHOICE STAFF RECRUITMENT LIMITED                 & False & 2020/04/05 00:00:00 & 2020/01/24 09:37:01\\\\\n",
       "\t5 & 1ST HOME CARE LTD.                                   & 17484 & Real Life Options, 35 East Port, Dunfermline, Fife, Scotland, KY12 7LG             & KY12 7LG & SC272838 & 86900,\n",
       "88100         & -2.0 &  0.5 &     NA &     NA & ⋯ & 91.0 &  9.0 & 91.0 & https://reallifeoptions.org/                                                                                         & Ian Hardcastle (Chief Operating Officer)       & 250 to 499   & 1ST HOME CARE LTD.                                   & False & 2020/04/05 00:00:00 & 2020/03/12 08:21:06\\\\\n",
       "\\end{tabular}\n"
      ],
      "text/markdown": [
       "\n",
       "A data.frame: 5 × 27\n",
       "\n",
       "| <!--/--> | EmployerName &lt;chr&gt; | EmployerId &lt;int&gt; | Address &lt;chr&gt; | PostCode &lt;chr&gt; | CompanyNumber &lt;chr&gt; | SicCodes &lt;chr&gt; | DiffMeanHourlyPercent &lt;dbl&gt; | DiffMedianHourlyPercent &lt;dbl&gt; | DiffMeanBonusPercent &lt;dbl&gt; | DiffMedianBonusPercent &lt;dbl&gt; | ⋯ ⋯ | FemaleUpperMiddleQuartile &lt;dbl&gt; | MaleTopQuartile &lt;dbl&gt; | FemaleTopQuartile &lt;dbl&gt; | CompanyLinkToGPGInfo &lt;chr&gt; | ResponsiblePerson &lt;chr&gt; | EmployerSize &lt;chr&gt; | CurrentName &lt;chr&gt; | SubmittedAfterTheDeadline &lt;chr&gt; | DueDate &lt;chr&gt; | DateSubmitted &lt;chr&gt; |\n",
       "|---|---|---|---|---|---|---|---|---|---|---|---|---|---|---|---|---|---|---|---|---|---|\n",
       "| 1 | 'PRIFYSGOL ABERYSTWYTH' AND 'ABERYSTWYTH UNIVERSITY' | 19070 | Aberystwyth University, Penglais, Ceredigion, SY23 3FL                             | SY23 3FL | RC000641 | <!----> | 11.5 | 10.3 |     NA |     NA | ⋯ | 60.0 | 62.0 | 38.0 | https://www.aber.ac.uk/en/equality/genderpaygapreporting2019/ \n",
       "\n",
       "https://www.aber.ac.uk/cy/equality/gender-pay-gap/ | Elizabeth Treasure (Vice-Chancellor)           | 1000 to 4999 | 'PRIFYSGOL ABERYSTWYTH' AND 'ABERYSTWYTH UNIVERSITY' | False | 2020/04/05 00:00:00 | 2020/04/03 14:47:45 |\n",
       "| 2 | 10 TRINITY SQUARE HOTEL LIMITED                      | 19455 | 5 Market Yard Mews, 194-204 Bermondsey Street, London, United Kingdom, SE1 3TQ     | SE1 3TQ  | 08064685 | 82990                 |  8.7 | 10.3 |   29.6 |   54.5 | ⋯ | 21.1 | 66.7 | 33.3 | <!----> | Linda Stigter (Director of People and Culture) | 250 to 499   | 10 TRINITY SQUARE HOTEL LIMITED                      | False | 2020/04/05 00:00:00 | 2020/03/19 15:51:20 |\n",
       "| 3 | 1LIFE MANAGEMENT SOLUTIONS LIMITED                   |   687 | Ldh House St Ives Business Park, Parsons Green, St. Ives, Cambridgeshire, PE27 4AA | PE27 4AA | 02566586 | 93110,\n",
       "93130,\n",
       "93290 | 11.0 | -0.5 |   81.5 |   94.2 | ⋯ | 57.7 | 44.2 | 55.8 | https://www.1life.co.uk/gender-pay-gap                                                                               | Mark Braithwaite (Managing Director)           | 250 to 499   | 1LIFE MANAGEMENT SOLUTIONS LIMITED                   | False | 2020/04/05 00:00:00 | 2020/03/10 17:03:17 |\n",
       "| 4 | 1ST CHOICE STAFF RECRUITMENT LIMITED                 | 18136 | 1ST CHOICE RECRUITMENT, 8 St. Loyes Street, Bedford, MK40 1EP                      | MK40 1EP | 07972006 | 78109                 | -2.3 |  0.0 | -114.8 | -249.3 | ⋯ | 37.1 | 50.0 | 50.0 | https://www.1stchoice.net/gender-pay-gap-report-2019/                                                                | Gill Knight (MD)                               | 250 to 499   | 1ST CHOICE STAFF RECRUITMENT LIMITED                 | False | 2020/04/05 00:00:00 | 2020/01/24 09:37:01 |\n",
       "| 5 | 1ST HOME CARE LTD.                                   | 17484 | Real Life Options, 35 East Port, Dunfermline, Fife, Scotland, KY12 7LG             | KY12 7LG | SC272838 | 86900,\n",
       "88100         | -2.0 |  0.5 |     NA |     NA | ⋯ | 91.0 |  9.0 | 91.0 | https://reallifeoptions.org/                                                                                         | Ian Hardcastle (Chief Operating Officer)       | 250 to 499   | 1ST HOME CARE LTD.                                   | False | 2020/04/05 00:00:00 | 2020/03/12 08:21:06 |\n",
       "\n"
      ],
      "text/plain": [
       "  EmployerName                                         EmployerId\n",
       "1 'PRIFYSGOL ABERYSTWYTH' AND 'ABERYSTWYTH UNIVERSITY' 19070     \n",
       "2 10 TRINITY SQUARE HOTEL LIMITED                      19455     \n",
       "3 1LIFE MANAGEMENT SOLUTIONS LIMITED                     687     \n",
       "4 1ST CHOICE STAFF RECRUITMENT LIMITED                 18136     \n",
       "5 1ST HOME CARE LTD.                                   17484     \n",
       "  Address                                                                           \n",
       "1 Aberystwyth University, Penglais, Ceredigion, SY23 3FL                            \n",
       "2 5 Market Yard Mews, 194-204 Bermondsey Street, London, United Kingdom, SE1 3TQ    \n",
       "3 Ldh House St Ives Business Park, Parsons Green, St. Ives, Cambridgeshire, PE27 4AA\n",
       "4 1ST CHOICE RECRUITMENT, 8 St. Loyes Street, Bedford, MK40 1EP                     \n",
       "5 Real Life Options, 35 East Port, Dunfermline, Fife, Scotland, KY12 7LG            \n",
       "  PostCode CompanyNumber SicCodes              DiffMeanHourlyPercent\n",
       "1 SY23 3FL RC000641                            11.5                 \n",
       "2 SE1 3TQ  08064685      82990                  8.7                 \n",
       "3 PE27 4AA 02566586      93110,\\n93130,\\n93290 11.0                 \n",
       "4 MK40 1EP 07972006      78109                 -2.3                 \n",
       "5 KY12 7LG SC272838      86900,\\n88100         -2.0                 \n",
       "  DiffMedianHourlyPercent DiffMeanBonusPercent DiffMedianBonusPercent ⋯\n",
       "1 10.3                        NA                   NA                 ⋯\n",
       "2 10.3                      29.6                 54.5                 ⋯\n",
       "3 -0.5                      81.5                 94.2                 ⋯\n",
       "4  0.0                    -114.8               -249.3                 ⋯\n",
       "5  0.5                        NA                   NA                 ⋯\n",
       "  FemaleUpperMiddleQuartile MaleTopQuartile FemaleTopQuartile\n",
       "1 60.0                      62.0            38.0             \n",
       "2 21.1                      66.7            33.3             \n",
       "3 57.7                      44.2            55.8             \n",
       "4 37.1                      50.0            50.0             \n",
       "5 91.0                       9.0            91.0             \n",
       "  CompanyLinkToGPGInfo                                                                                                \n",
       "1 https://www.aber.ac.uk/en/equality/genderpaygapreporting2019/ \\n\\nhttps://www.aber.ac.uk/cy/equality/gender-pay-gap/\n",
       "2                                                                                                                     \n",
       "3 https://www.1life.co.uk/gender-pay-gap                                                                              \n",
       "4 https://www.1stchoice.net/gender-pay-gap-report-2019/                                                               \n",
       "5 https://reallifeoptions.org/                                                                                        \n",
       "  ResponsiblePerson                              EmployerSize\n",
       "1 Elizabeth Treasure (Vice-Chancellor)           1000 to 4999\n",
       "2 Linda Stigter (Director of People and Culture) 250 to 499  \n",
       "3 Mark Braithwaite (Managing Director)           250 to 499  \n",
       "4 Gill Knight (MD)                               250 to 499  \n",
       "5 Ian Hardcastle (Chief Operating Officer)       250 to 499  \n",
       "  CurrentName                                         \n",
       "1 'PRIFYSGOL ABERYSTWYTH' AND 'ABERYSTWYTH UNIVERSITY'\n",
       "2 10 TRINITY SQUARE HOTEL LIMITED                     \n",
       "3 1LIFE MANAGEMENT SOLUTIONS LIMITED                  \n",
       "4 1ST CHOICE STAFF RECRUITMENT LIMITED                \n",
       "5 1ST HOME CARE LTD.                                  \n",
       "  SubmittedAfterTheDeadline DueDate             DateSubmitted      \n",
       "1 False                     2020/04/05 00:00:00 2020/04/03 14:47:45\n",
       "2 False                     2020/04/05 00:00:00 2020/03/19 15:51:20\n",
       "3 False                     2020/04/05 00:00:00 2020/03/10 17:03:17\n",
       "4 False                     2020/04/05 00:00:00 2020/01/24 09:37:01\n",
       "5 False                     2020/04/05 00:00:00 2020/03/12 08:21:06"
      ]
     },
     "metadata": {},
     "output_type": "display_data"
    }
   ],
   "source": [
    "head(paygap, n = 5)"
   ]
  },
  {
   "cell_type": "code",
   "execution_count": 10,
   "id": "8c6f5802",
   "metadata": {
    "vscode": {
     "languageId": "r"
    }
   },
   "outputs": [
    {
     "data": {
      "text/html": [
       "<style>\n",
       ".list-inline {list-style: none; margin:0; padding: 0}\n",
       ".list-inline>li {display: inline-block}\n",
       ".list-inline>li:not(:last-child)::after {content: \"\\00b7\"; padding: 0 .5ex}\n",
       "</style>\n",
       "<ol class=list-inline><li>'EmployerName'</li><li>'EmployerId'</li><li>'Address'</li><li>'PostCode'</li><li>'CompanyNumber'</li><li>'SicCodes'</li><li>'DiffMeanHourlyPercent'</li><li>'DiffMedianHourlyPercent'</li><li>'DiffMeanBonusPercent'</li><li>'DiffMedianBonusPercent'</li><li>'MaleBonusPercent'</li><li>'FemaleBonusPercent'</li><li>'MaleLowerQuartile'</li><li>'FemaleLowerQuartile'</li><li>'MaleLowerMiddleQuartile'</li><li>'FemaleLowerMiddleQuartile'</li><li>'MaleUpperMiddleQuartile'</li><li>'FemaleUpperMiddleQuartile'</li><li>'MaleTopQuartile'</li><li>'FemaleTopQuartile'</li><li>'CompanyLinkToGPGInfo'</li><li>'ResponsiblePerson'</li><li>'EmployerSize'</li><li>'CurrentName'</li><li>'SubmittedAfterTheDeadline'</li><li>'DueDate'</li><li>'DateSubmitted'</li></ol>\n"
      ],
      "text/latex": [
       "\\begin{enumerate*}\n",
       "\\item 'EmployerName'\n",
       "\\item 'EmployerId'\n",
       "\\item 'Address'\n",
       "\\item 'PostCode'\n",
       "\\item 'CompanyNumber'\n",
       "\\item 'SicCodes'\n",
       "\\item 'DiffMeanHourlyPercent'\n",
       "\\item 'DiffMedianHourlyPercent'\n",
       "\\item 'DiffMeanBonusPercent'\n",
       "\\item 'DiffMedianBonusPercent'\n",
       "\\item 'MaleBonusPercent'\n",
       "\\item 'FemaleBonusPercent'\n",
       "\\item 'MaleLowerQuartile'\n",
       "\\item 'FemaleLowerQuartile'\n",
       "\\item 'MaleLowerMiddleQuartile'\n",
       "\\item 'FemaleLowerMiddleQuartile'\n",
       "\\item 'MaleUpperMiddleQuartile'\n",
       "\\item 'FemaleUpperMiddleQuartile'\n",
       "\\item 'MaleTopQuartile'\n",
       "\\item 'FemaleTopQuartile'\n",
       "\\item 'CompanyLinkToGPGInfo'\n",
       "\\item 'ResponsiblePerson'\n",
       "\\item 'EmployerSize'\n",
       "\\item 'CurrentName'\n",
       "\\item 'SubmittedAfterTheDeadline'\n",
       "\\item 'DueDate'\n",
       "\\item 'DateSubmitted'\n",
       "\\end{enumerate*}\n"
      ],
      "text/markdown": [
       "1. 'EmployerName'\n",
       "2. 'EmployerId'\n",
       "3. 'Address'\n",
       "4. 'PostCode'\n",
       "5. 'CompanyNumber'\n",
       "6. 'SicCodes'\n",
       "7. 'DiffMeanHourlyPercent'\n",
       "8. 'DiffMedianHourlyPercent'\n",
       "9. 'DiffMeanBonusPercent'\n",
       "10. 'DiffMedianBonusPercent'\n",
       "11. 'MaleBonusPercent'\n",
       "12. 'FemaleBonusPercent'\n",
       "13. 'MaleLowerQuartile'\n",
       "14. 'FemaleLowerQuartile'\n",
       "15. 'MaleLowerMiddleQuartile'\n",
       "16. 'FemaleLowerMiddleQuartile'\n",
       "17. 'MaleUpperMiddleQuartile'\n",
       "18. 'FemaleUpperMiddleQuartile'\n",
       "19. 'MaleTopQuartile'\n",
       "20. 'FemaleTopQuartile'\n",
       "21. 'CompanyLinkToGPGInfo'\n",
       "22. 'ResponsiblePerson'\n",
       "23. 'EmployerSize'\n",
       "24. 'CurrentName'\n",
       "25. 'SubmittedAfterTheDeadline'\n",
       "26. 'DueDate'\n",
       "27. 'DateSubmitted'\n",
       "\n",
       "\n"
      ],
      "text/plain": [
       " [1] \"EmployerName\"              \"EmployerId\"               \n",
       " [3] \"Address\"                   \"PostCode\"                 \n",
       " [5] \"CompanyNumber\"             \"SicCodes\"                 \n",
       " [7] \"DiffMeanHourlyPercent\"     \"DiffMedianHourlyPercent\"  \n",
       " [9] \"DiffMeanBonusPercent\"      \"DiffMedianBonusPercent\"   \n",
       "[11] \"MaleBonusPercent\"          \"FemaleBonusPercent\"       \n",
       "[13] \"MaleLowerQuartile\"         \"FemaleLowerQuartile\"      \n",
       "[15] \"MaleLowerMiddleQuartile\"   \"FemaleLowerMiddleQuartile\"\n",
       "[17] \"MaleUpperMiddleQuartile\"   \"FemaleUpperMiddleQuartile\"\n",
       "[19] \"MaleTopQuartile\"           \"FemaleTopQuartile\"        \n",
       "[21] \"CompanyLinkToGPGInfo\"      \"ResponsiblePerson\"        \n",
       "[23] \"EmployerSize\"              \"CurrentName\"              \n",
       "[25] \"SubmittedAfterTheDeadline\" \"DueDate\"                  \n",
       "[27] \"DateSubmitted\"            "
      ]
     },
     "metadata": {},
     "output_type": "display_data"
    }
   ],
   "source": [
    "colnames(paygap)"
   ]
  },
  {
   "cell_type": "code",
   "execution_count": 11,
   "id": "6eb65e02",
   "metadata": {
    "vscode": {
     "languageId": "r"
    }
   },
   "outputs": [
    {
     "data": {
      "text/html": [
       "<style>\n",
       ".list-inline {list-style: none; margin:0; padding: 0}\n",
       ".list-inline>li {display: inline-block}\n",
       ".list-inline>li:not(:last-child)::after {content: \"\\00b7\"; padding: 0 .5ex}\n",
       "</style>\n",
       "<ol class=list-inline><li>6921</li><li>27</li></ol>\n"
      ],
      "text/latex": [
       "\\begin{enumerate*}\n",
       "\\item 6921\n",
       "\\item 27\n",
       "\\end{enumerate*}\n"
      ],
      "text/markdown": [
       "1. 6921\n",
       "2. 27\n",
       "\n",
       "\n"
      ],
      "text/plain": [
       "[1] 6921   27"
      ]
     },
     "metadata": {},
     "output_type": "display_data"
    }
   ],
   "source": [
    "dim(paygap)"
   ]
  },
  {
   "cell_type": "code",
   "execution_count": 12,
   "id": "818a9786",
   "metadata": {
    "vscode": {
     "languageId": "r"
    }
   },
   "outputs": [
    {
     "data": {
      "text/html": [
       "'data.frame'"
      ],
      "text/latex": [
       "'data.frame'"
      ],
      "text/markdown": [
       "'data.frame'"
      ],
      "text/plain": [
       "[1] \"data.frame\""
      ]
     },
     "metadata": {},
     "output_type": "display_data"
    }
   ],
   "source": [
    "class(paygap)"
   ]
  },
  {
   "cell_type": "code",
   "execution_count": 13,
   "id": "43fe4534",
   "metadata": {
    "vscode": {
     "languageId": "r"
    }
   },
   "outputs": [
    {
     "data": {
      "text/html": [
       "'numeric'"
      ],
      "text/latex": [
       "'numeric'"
      ],
      "text/markdown": [
       "'numeric'"
      ],
      "text/plain": [
       "[1] \"numeric\""
      ]
     },
     "metadata": {},
     "output_type": "display_data"
    }
   ],
   "source": [
    "class(paygap$DiffMeanHourlyPercent)"
   ]
  },
  {
   "cell_type": "code",
   "execution_count": null,
   "id": "46f217dc",
   "metadata": {
    "vscode": {
     "languageId": "r"
    }
   },
   "outputs": [],
   "source": []
  },
  {
   "cell_type": "code",
   "execution_count": 47,
   "id": "56e695ab",
   "metadata": {
    "vscode": {
     "languageId": "r"
    }
   },
   "outputs": [],
   "source": [
    "cardiacdata <- read.csv('C:/Users/emman/Desktop/HHA 507/intro-to-R/Part-2/data/_data_normtemp.csv', header = TRUE)"
   ]
  },
  {
   "cell_type": "code",
   "execution_count": 48,
   "id": "4539a163",
   "metadata": {
    "vscode": {
     "languageId": "r"
    }
   },
   "outputs": [
    {
     "data": {
      "text/html": [
       "<table class=\"dataframe\">\n",
       "<caption>A data.frame: 5 × 3</caption>\n",
       "<thead>\n",
       "\t<tr><th></th><th scope=col>bodytemp</th><th scope=col>gender</th><th scope=col>heartrate</th></tr>\n",
       "\t<tr><th></th><th scope=col>&lt;dbl&gt;</th><th scope=col>&lt;chr&gt;</th><th scope=col>&lt;int&gt;</th></tr>\n",
       "</thead>\n",
       "<tbody>\n",
       "\t<tr><th scope=row>1</th><td>96.3</td><td>Male</td><td>70</td></tr>\n",
       "\t<tr><th scope=row>2</th><td>96.7</td><td>Male</td><td>71</td></tr>\n",
       "\t<tr><th scope=row>3</th><td>96.9</td><td>Male</td><td>74</td></tr>\n",
       "\t<tr><th scope=row>4</th><td>97.0</td><td>Male</td><td>80</td></tr>\n",
       "\t<tr><th scope=row>5</th><td>97.1</td><td>Male</td><td>73</td></tr>\n",
       "</tbody>\n",
       "</table>\n"
      ],
      "text/latex": [
       "A data.frame: 5 × 3\n",
       "\\begin{tabular}{r|lll}\n",
       "  & bodytemp & gender & heartrate\\\\\n",
       "  & <dbl> & <chr> & <int>\\\\\n",
       "\\hline\n",
       "\t1 & 96.3 & Male & 70\\\\\n",
       "\t2 & 96.7 & Male & 71\\\\\n",
       "\t3 & 96.9 & Male & 74\\\\\n",
       "\t4 & 97.0 & Male & 80\\\\\n",
       "\t5 & 97.1 & Male & 73\\\\\n",
       "\\end{tabular}\n"
      ],
      "text/markdown": [
       "\n",
       "A data.frame: 5 × 3\n",
       "\n",
       "| <!--/--> | bodytemp &lt;dbl&gt; | gender &lt;chr&gt; | heartrate &lt;int&gt; |\n",
       "|---|---|---|---|\n",
       "| 1 | 96.3 | Male | 70 |\n",
       "| 2 | 96.7 | Male | 71 |\n",
       "| 3 | 96.9 | Male | 74 |\n",
       "| 4 | 97.0 | Male | 80 |\n",
       "| 5 | 97.1 | Male | 73 |\n",
       "\n"
      ],
      "text/plain": [
       "  bodytemp gender heartrate\n",
       "1 96.3     Male   70       \n",
       "2 96.7     Male   71       \n",
       "3 96.9     Male   74       \n",
       "4 97.0     Male   80       \n",
       "5 97.1     Male   73       "
      ]
     },
     "metadata": {},
     "output_type": "display_data"
    }
   ],
   "source": [
    "head(cardiacdata, n = 5)"
   ]
  },
  {
   "cell_type": "code",
   "execution_count": 49,
   "id": "fd2314eb",
   "metadata": {
    "vscode": {
     "languageId": "r"
    }
   },
   "outputs": [
    {
     "data": {
      "text/html": [
       "<style>\n",
       ".list-inline {list-style: none; margin:0; padding: 0}\n",
       ".list-inline>li {display: inline-block}\n",
       ".list-inline>li:not(:last-child)::after {content: \"\\00b7\"; padding: 0 .5ex}\n",
       "</style>\n",
       "<ol class=list-inline><li>'bodytemp'</li><li>'gender'</li><li>'heartrate'</li></ol>\n"
      ],
      "text/latex": [
       "\\begin{enumerate*}\n",
       "\\item 'bodytemp'\n",
       "\\item 'gender'\n",
       "\\item 'heartrate'\n",
       "\\end{enumerate*}\n"
      ],
      "text/markdown": [
       "1. 'bodytemp'\n",
       "2. 'gender'\n",
       "3. 'heartrate'\n",
       "\n",
       "\n"
      ],
      "text/plain": [
       "[1] \"bodytemp\"  \"gender\"    \"heartrate\""
      ]
     },
     "metadata": {},
     "output_type": "display_data"
    }
   ],
   "source": [
    "colnames(cardiacdata)"
   ]
  },
  {
   "cell_type": "code",
   "execution_count": 50,
   "id": "2920e5b2",
   "metadata": {
    "vscode": {
     "languageId": "r"
    }
   },
   "outputs": [
    {
     "data": {
      "text/html": [
       "<style>\n",
       ".list-inline {list-style: none; margin:0; padding: 0}\n",
       ".list-inline>li {display: inline-block}\n",
       ".list-inline>li:not(:last-child)::after {content: \"\\00b7\"; padding: 0 .5ex}\n",
       "</style>\n",
       "<ol class=list-inline><li>130</li><li>3</li></ol>\n"
      ],
      "text/latex": [
       "\\begin{enumerate*}\n",
       "\\item 130\n",
       "\\item 3\n",
       "\\end{enumerate*}\n"
      ],
      "text/markdown": [
       "1. 130\n",
       "2. 3\n",
       "\n",
       "\n"
      ],
      "text/plain": [
       "[1] 130   3"
      ]
     },
     "metadata": {},
     "output_type": "display_data"
    }
   ],
   "source": [
    "dim(cardiacdata)"
   ]
  },
  {
   "cell_type": "code",
   "execution_count": 51,
   "id": "6e97ec7a",
   "metadata": {
    "vscode": {
     "languageId": "r"
    }
   },
   "outputs": [
    {
     "data": {
      "text/html": [
       "'data.frame'"
      ],
      "text/latex": [
       "'data.frame'"
      ],
      "text/markdown": [
       "'data.frame'"
      ],
      "text/plain": [
       "[1] \"data.frame\""
      ]
     },
     "metadata": {},
     "output_type": "display_data"
    }
   ],
   "source": [
    "class(cardiacdata)"
   ]
  },
  {
   "cell_type": "code",
   "execution_count": 52,
   "id": "f3466f6d",
   "metadata": {
    "vscode": {
     "languageId": "r"
    }
   },
   "outputs": [
    {
     "data": {
      "text/html": [
       "'numeric'"
      ],
      "text/latex": [
       "'numeric'"
      ],
      "text/markdown": [
       "'numeric'"
      ],
      "text/plain": [
       "[1] \"numeric\""
      ]
     },
     "metadata": {},
     "output_type": "display_data"
    }
   ],
   "source": [
    "class(cardiacdata$bodytemp)"
   ]
  },
  {
   "cell_type": "code",
   "execution_count": 53,
   "id": "7742a72b",
   "metadata": {
    "vscode": {
     "languageId": "r"
    }
   },
   "outputs": [
    {
     "data": {
      "text/html": [
       "'integer'"
      ],
      "text/latex": [
       "'integer'"
      ],
      "text/markdown": [
       "'integer'"
      ],
      "text/plain": [
       "[1] \"integer\""
      ]
     },
     "metadata": {},
     "output_type": "display_data"
    }
   ],
   "source": [
    "class(cardiacdata$heartrate)"
   ]
  },
  {
   "cell_type": "code",
   "execution_count": null,
   "id": "4d1e5b62",
   "metadata": {
    "vscode": {
     "languageId": "r"
    }
   },
   "outputs": [],
   "source": []
  },
  {
   "cell_type": "code",
   "execution_count": 54,
   "id": "bc3b16ab",
   "metadata": {
    "vscode": {
     "languageId": "r"
    }
   },
   "outputs": [
    {
     "data": {
      "text/html": [
       "70"
      ],
      "text/latex": [
       "70"
      ],
      "text/markdown": [
       "70"
      ],
      "text/plain": [
       "[1] 70"
      ]
     },
     "metadata": {},
     "output_type": "display_data"
    }
   ],
   "source": [
    "# extract element in 1st row and 3th column\n",
    "cardiacdata[1,3]"
   ]
  },
  {
   "cell_type": "code",
   "execution_count": 55,
   "id": "2618251c",
   "metadata": {
    "vscode": {
     "languageId": "r"
    }
   },
   "outputs": [
    {
     "data": {
      "text/html": [
       "<table class=\"dataframe\">\n",
       "<caption>A data.frame: 3 × 3</caption>\n",
       "<thead>\n",
       "\t<tr><th></th><th scope=col>bodytemp</th><th scope=col>gender</th><th scope=col>heartrate</th></tr>\n",
       "\t<tr><th></th><th scope=col>&lt;dbl&gt;</th><th scope=col>&lt;chr&gt;</th><th scope=col>&lt;int&gt;</th></tr>\n",
       "</thead>\n",
       "<tbody>\n",
       "\t<tr><th scope=row>5</th><td>97.1</td><td>Male</td><td>73</td></tr>\n",
       "\t<tr><th scope=row>6</th><td>97.1</td><td>Male</td><td>75</td></tr>\n",
       "\t<tr><th scope=row>7</th><td>97.1</td><td>Male</td><td>82</td></tr>\n",
       "</tbody>\n",
       "</table>\n"
      ],
      "text/latex": [
       "A data.frame: 3 × 3\n",
       "\\begin{tabular}{r|lll}\n",
       "  & bodytemp & gender & heartrate\\\\\n",
       "  & <dbl> & <chr> & <int>\\\\\n",
       "\\hline\n",
       "\t5 & 97.1 & Male & 73\\\\\n",
       "\t6 & 97.1 & Male & 75\\\\\n",
       "\t7 & 97.1 & Male & 82\\\\\n",
       "\\end{tabular}\n"
      ],
      "text/markdown": [
       "\n",
       "A data.frame: 3 × 3\n",
       "\n",
       "| <!--/--> | bodytemp &lt;dbl&gt; | gender &lt;chr&gt; | heartrate &lt;int&gt; |\n",
       "|---|---|---|---|\n",
       "| 5 | 97.1 | Male | 73 |\n",
       "| 6 | 97.1 | Male | 75 |\n",
       "| 7 | 97.1 | Male | 82 |\n",
       "\n"
      ],
      "text/plain": [
       "  bodytemp gender heartrate\n",
       "5 97.1     Male   73       \n",
       "6 97.1     Male   75       \n",
       "7 97.1     Male   82       "
      ]
     },
     "metadata": {},
     "output_type": "display_data"
    }
   ],
   "source": [
    "# extract rows 5-7 from columns 1-3\n",
    "cardiacdata[5:7,1:3]"
   ]
  },
  {
   "cell_type": "code",
   "execution_count": 56,
   "id": "5805b457",
   "metadata": {
    "vscode": {
     "languageId": "r"
    }
   },
   "outputs": [],
   "source": [
    "# extract column 'bodytemp' and assign to new object 'temperatures'\n",
    "temperatures <- cardiacdata$bodytemp"
   ]
  },
  {
   "cell_type": "code",
   "execution_count": 57,
   "id": "698f0c6d",
   "metadata": {
    "vscode": {
     "languageId": "r"
    }
   },
   "outputs": [],
   "source": [
    "# select columns 'gender' and 'heartrate' and assign to new object 'heartrates'\n",
    "heartrates <- select(cardiacdata, gender, heartrate)"
   ]
  },
  {
   "cell_type": "code",
   "execution_count": 58,
   "id": "0415f424",
   "metadata": {
    "vscode": {
     "languageId": "r"
    }
   },
   "outputs": [],
   "source": [
    "## append variable names with their respective units\n",
    "# rename 'bodytemp' to 'bodytemp_degF'\n",
    "cardiacdata <- rename(cardiacdata, bodytemp_degF = bodytemp)\n",
    "\n",
    "# rename 'heartrate' to 'heartrate_bpm'\n",
    "cardiacdata <- rename(cardiacdata, heartrate_bpm = heartrate)"
   ]
  },
  {
   "cell_type": "code",
   "execution_count": 59,
   "id": "d9a1179e",
   "metadata": {
    "vscode": {
     "languageId": "r"
    }
   },
   "outputs": [
    {
     "data": {
      "text/html": [
       "<table class=\"dataframe\">\n",
       "<caption>A data.frame: 6 × 3</caption>\n",
       "<thead>\n",
       "\t<tr><th></th><th scope=col>bodytemp_degF</th><th scope=col>gender</th><th scope=col>heartrate_bpm</th></tr>\n",
       "\t<tr><th></th><th scope=col>&lt;dbl&gt;</th><th scope=col>&lt;chr&gt;</th><th scope=col>&lt;int&gt;</th></tr>\n",
       "</thead>\n",
       "<tbody>\n",
       "\t<tr><th scope=row>1</th><td>96.3</td><td>Male</td><td>70</td></tr>\n",
       "\t<tr><th scope=row>2</th><td>96.7</td><td>Male</td><td>71</td></tr>\n",
       "\t<tr><th scope=row>3</th><td>96.9</td><td>Male</td><td>74</td></tr>\n",
       "\t<tr><th scope=row>4</th><td>97.0</td><td>Male</td><td>80</td></tr>\n",
       "\t<tr><th scope=row>5</th><td>97.1</td><td>Male</td><td>73</td></tr>\n",
       "\t<tr><th scope=row>6</th><td>97.1</td><td>Male</td><td>75</td></tr>\n",
       "</tbody>\n",
       "</table>\n"
      ],
      "text/latex": [
       "A data.frame: 6 × 3\n",
       "\\begin{tabular}{r|lll}\n",
       "  & bodytemp\\_degF & gender & heartrate\\_bpm\\\\\n",
       "  & <dbl> & <chr> & <int>\\\\\n",
       "\\hline\n",
       "\t1 & 96.3 & Male & 70\\\\\n",
       "\t2 & 96.7 & Male & 71\\\\\n",
       "\t3 & 96.9 & Male & 74\\\\\n",
       "\t4 & 97.0 & Male & 80\\\\\n",
       "\t5 & 97.1 & Male & 73\\\\\n",
       "\t6 & 97.1 & Male & 75\\\\\n",
       "\\end{tabular}\n"
      ],
      "text/markdown": [
       "\n",
       "A data.frame: 6 × 3\n",
       "\n",
       "| <!--/--> | bodytemp_degF &lt;dbl&gt; | gender &lt;chr&gt; | heartrate_bpm &lt;int&gt; |\n",
       "|---|---|---|---|\n",
       "| 1 | 96.3 | Male | 70 |\n",
       "| 2 | 96.7 | Male | 71 |\n",
       "| 3 | 96.9 | Male | 74 |\n",
       "| 4 | 97.0 | Male | 80 |\n",
       "| 5 | 97.1 | Male | 73 |\n",
       "| 6 | 97.1 | Male | 75 |\n",
       "\n"
      ],
      "text/plain": [
       "  bodytemp_degF gender heartrate_bpm\n",
       "1 96.3          Male   70           \n",
       "2 96.7          Male   71           \n",
       "3 96.9          Male   74           \n",
       "4 97.0          Male   80           \n",
       "5 97.1          Male   73           \n",
       "6 97.1          Male   75           "
      ]
     },
     "metadata": {},
     "output_type": "display_data"
    }
   ],
   "source": [
    "head(cardiacdata)"
   ]
  },
  {
   "cell_type": "code",
   "execution_count": 60,
   "id": "04834ee4",
   "metadata": {
    "vscode": {
     "languageId": "r"
    }
   },
   "outputs": [],
   "source": [
    "# add new column with body temperature in degrees celsius\n",
    "cardiacdata <- mutate(cardiacdata, bodytemp_degC = (bodytemp_degF - 32)*(5/9))"
   ]
  },
  {
   "cell_type": "code",
   "execution_count": 64,
   "id": "569aced7",
   "metadata": {
    "vscode": {
     "languageId": "r"
    }
   },
   "outputs": [
    {
     "data": {
      "text/html": [
       "<table class=\"dataframe\">\n",
       "<caption>A data.frame: 6 × 4</caption>\n",
       "<thead>\n",
       "\t<tr><th></th><th scope=col>bodytemp_degF</th><th scope=col>gender</th><th scope=col>heartrate_bpm</th><th scope=col>bodytemp_degC</th></tr>\n",
       "\t<tr><th></th><th scope=col>&lt;dbl&gt;</th><th scope=col>&lt;chr&gt;</th><th scope=col>&lt;int&gt;</th><th scope=col>&lt;dbl&gt;</th></tr>\n",
       "</thead>\n",
       "<tbody>\n",
       "\t<tr><th scope=row>1</th><td>96.3</td><td>Male</td><td>70</td><td>35.72222</td></tr>\n",
       "\t<tr><th scope=row>2</th><td>96.7</td><td>Male</td><td>71</td><td>35.94444</td></tr>\n",
       "\t<tr><th scope=row>3</th><td>96.9</td><td>Male</td><td>74</td><td>36.05556</td></tr>\n",
       "\t<tr><th scope=row>4</th><td>97.0</td><td>Male</td><td>80</td><td>36.11111</td></tr>\n",
       "\t<tr><th scope=row>5</th><td>97.1</td><td>Male</td><td>73</td><td>36.16667</td></tr>\n",
       "\t<tr><th scope=row>6</th><td>97.1</td><td>Male</td><td>75</td><td>36.16667</td></tr>\n",
       "</tbody>\n",
       "</table>\n"
      ],
      "text/latex": [
       "A data.frame: 6 × 4\n",
       "\\begin{tabular}{r|llll}\n",
       "  & bodytemp\\_degF & gender & heartrate\\_bpm & bodytemp\\_degC\\\\\n",
       "  & <dbl> & <chr> & <int> & <dbl>\\\\\n",
       "\\hline\n",
       "\t1 & 96.3 & Male & 70 & 35.72222\\\\\n",
       "\t2 & 96.7 & Male & 71 & 35.94444\\\\\n",
       "\t3 & 96.9 & Male & 74 & 36.05556\\\\\n",
       "\t4 & 97.0 & Male & 80 & 36.11111\\\\\n",
       "\t5 & 97.1 & Male & 73 & 36.16667\\\\\n",
       "\t6 & 97.1 & Male & 75 & 36.16667\\\\\n",
       "\\end{tabular}\n"
      ],
      "text/markdown": [
       "\n",
       "A data.frame: 6 × 4\n",
       "\n",
       "| <!--/--> | bodytemp_degF &lt;dbl&gt; | gender &lt;chr&gt; | heartrate_bpm &lt;int&gt; | bodytemp_degC &lt;dbl&gt; |\n",
       "|---|---|---|---|---|\n",
       "| 1 | 96.3 | Male | 70 | 35.72222 |\n",
       "| 2 | 96.7 | Male | 71 | 35.94444 |\n",
       "| 3 | 96.9 | Male | 74 | 36.05556 |\n",
       "| 4 | 97.0 | Male | 80 | 36.11111 |\n",
       "| 5 | 97.1 | Male | 73 | 36.16667 |\n",
       "| 6 | 97.1 | Male | 75 | 36.16667 |\n",
       "\n"
      ],
      "text/plain": [
       "  bodytemp_degF gender heartrate_bpm bodytemp_degC\n",
       "1 96.3          Male   70            35.72222     \n",
       "2 96.7          Male   71            35.94444     \n",
       "3 96.9          Male   74            36.05556     \n",
       "4 97.0          Male   80            36.11111     \n",
       "5 97.1          Male   73            36.16667     \n",
       "6 97.1          Male   75            36.16667     "
      ]
     },
     "metadata": {},
     "output_type": "display_data"
    }
   ],
   "source": [
    "head(cardiacdata)"
   ]
  },
  {
   "cell_type": "code",
   "execution_count": 65,
   "id": "f77bb5f4",
   "metadata": {
    "vscode": {
     "languageId": "r"
    }
   },
   "outputs": [],
   "source": [
    "# filter for data from female subjects only\n",
    "cardiacdata_female <- filter(cardiacdata, gender == 'Female')"
   ]
  },
  {
   "cell_type": "code",
   "execution_count": 66,
   "id": "21566bcc",
   "metadata": {
    "vscode": {
     "languageId": "r"
    }
   },
   "outputs": [],
   "source": [
    "cardiacdata <- cardiacdata %>%\n",
    "  filter(gender == 'Female') %>%\n",
    "  select(-gender) %>%\n",
    "  mutate(bodytemp_Kelvin = bodytemp_degC + 273)"
   ]
  },
  {
   "cell_type": "code",
   "execution_count": 67,
   "id": "fd47c4aa",
   "metadata": {
    "vscode": {
     "languageId": "r"
    }
   },
   "outputs": [
    {
     "data": {
      "text/html": [
       "<table class=\"dataframe\">\n",
       "<caption>A data.frame: 6 × 4</caption>\n",
       "<thead>\n",
       "\t<tr><th></th><th scope=col>bodytemp_degF</th><th scope=col>heartrate_bpm</th><th scope=col>bodytemp_degC</th><th scope=col>bodytemp_Kelvin</th></tr>\n",
       "\t<tr><th></th><th scope=col>&lt;dbl&gt;</th><th scope=col>&lt;int&gt;</th><th scope=col>&lt;dbl&gt;</th><th scope=col>&lt;dbl&gt;</th></tr>\n",
       "</thead>\n",
       "<tbody>\n",
       "\t<tr><th scope=row>1</th><td>96.4</td><td>69</td><td>35.77778</td><td>308.7778</td></tr>\n",
       "\t<tr><th scope=row>2</th><td>96.7</td><td>62</td><td>35.94444</td><td>308.9444</td></tr>\n",
       "\t<tr><th scope=row>3</th><td>96.8</td><td>75</td><td>36.00000</td><td>309.0000</td></tr>\n",
       "\t<tr><th scope=row>4</th><td>97.2</td><td>66</td><td>36.22222</td><td>309.2222</td></tr>\n",
       "\t<tr><th scope=row>5</th><td>97.2</td><td>68</td><td>36.22222</td><td>309.2222</td></tr>\n",
       "\t<tr><th scope=row>6</th><td>97.4</td><td>57</td><td>36.33333</td><td>309.3333</td></tr>\n",
       "</tbody>\n",
       "</table>\n"
      ],
      "text/latex": [
       "A data.frame: 6 × 4\n",
       "\\begin{tabular}{r|llll}\n",
       "  & bodytemp\\_degF & heartrate\\_bpm & bodytemp\\_degC & bodytemp\\_Kelvin\\\\\n",
       "  & <dbl> & <int> & <dbl> & <dbl>\\\\\n",
       "\\hline\n",
       "\t1 & 96.4 & 69 & 35.77778 & 308.7778\\\\\n",
       "\t2 & 96.7 & 62 & 35.94444 & 308.9444\\\\\n",
       "\t3 & 96.8 & 75 & 36.00000 & 309.0000\\\\\n",
       "\t4 & 97.2 & 66 & 36.22222 & 309.2222\\\\\n",
       "\t5 & 97.2 & 68 & 36.22222 & 309.2222\\\\\n",
       "\t6 & 97.4 & 57 & 36.33333 & 309.3333\\\\\n",
       "\\end{tabular}\n"
      ],
      "text/markdown": [
       "\n",
       "A data.frame: 6 × 4\n",
       "\n",
       "| <!--/--> | bodytemp_degF &lt;dbl&gt; | heartrate_bpm &lt;int&gt; | bodytemp_degC &lt;dbl&gt; | bodytemp_Kelvin &lt;dbl&gt; |\n",
       "|---|---|---|---|---|\n",
       "| 1 | 96.4 | 69 | 35.77778 | 308.7778 |\n",
       "| 2 | 96.7 | 62 | 35.94444 | 308.9444 |\n",
       "| 3 | 96.8 | 75 | 36.00000 | 309.0000 |\n",
       "| 4 | 97.2 | 66 | 36.22222 | 309.2222 |\n",
       "| 5 | 97.2 | 68 | 36.22222 | 309.2222 |\n",
       "| 6 | 97.4 | 57 | 36.33333 | 309.3333 |\n",
       "\n"
      ],
      "text/plain": [
       "  bodytemp_degF heartrate_bpm bodytemp_degC bodytemp_Kelvin\n",
       "1 96.4          69            35.77778      308.7778       \n",
       "2 96.7          62            35.94444      308.9444       \n",
       "3 96.8          75            36.00000      309.0000       \n",
       "4 97.2          66            36.22222      309.2222       \n",
       "5 97.2          68            36.22222      309.2222       \n",
       "6 97.4          57            36.33333      309.3333       "
      ]
     },
     "metadata": {},
     "output_type": "display_data"
    }
   ],
   "source": [
    "head(cardiacdata)"
   ]
  },
  {
   "cell_type": "code",
   "execution_count": 76,
   "id": "de0f3ebd",
   "metadata": {
    "vscode": {
     "languageId": "r"
    }
   },
   "outputs": [],
   "source": [
    "cardiacdata <- read.csv('C:/Users/emman/Desktop/HHA 507/intro-to-R/Part-2/data/_data_normtemp.csv', header = TRUE)"
   ]
  },
  {
   "cell_type": "code",
   "execution_count": 77,
   "id": "62bbc161",
   "metadata": {
    "vscode": {
     "languageId": "r"
    }
   },
   "outputs": [],
   "source": [
    "# extract column 'bodytemp' and assign to new object 'temperatures'\n",
    "temperatures <- cardiacdata$bodytemp\n",
    "# select columns 'gender' and 'heartrate' and assign to new object 'heartrates'\n",
    "heartrates <- select(cardiacdata, gender, heartrate)\n",
    "## append variable names with their respective units\n",
    "# rename 'bodytemp' to 'bodytemp_degF'\n",
    "cardiacdata <- rename(cardiacdata, bodytemp_degF = bodytemp)\n",
    "# rename 'heartrate' to 'heartrate_bpm'\n",
    "cardiacdata <- rename(cardiacdata, heartrate_bpm = heartrate)\n",
    "# add new column with body temperature in degrees celsius\n",
    "cardiacdata <- mutate(cardiacdata, bodytemp_degC = (bodytemp_degF - 32)*(5/9))"
   ]
  },
  {
   "cell_type": "code",
   "execution_count": 78,
   "id": "df9fd8a8",
   "metadata": {
    "vscode": {
     "languageId": "r"
    }
   },
   "outputs": [],
   "source": [
    "cardiacdata_byGender <- cardiacdata %>%\n",
    "  group_by(gender) %>%\n",
    "  summarize(avg_bodytemp_degF = mean(bodytemp_degF),\n",
    "            avg_bodytemp_degC = mean(bodytemp_degC), \n",
    "            avg_heartrate_bpm = mean(heartrate_bpm))"
   ]
  },
  {
   "cell_type": "code",
   "execution_count": 79,
   "id": "ce9d5e80",
   "metadata": {
    "vscode": {
     "languageId": "r"
    }
   },
   "outputs": [],
   "source": [
    "some_numbers <- c(4,5,6,7,NA,8)"
   ]
  },
  {
   "cell_type": "code",
   "execution_count": 80,
   "id": "57e5c6ed",
   "metadata": {
    "vscode": {
     "languageId": "r"
    }
   },
   "outputs": [
    {
     "data": {
      "text/html": [
       "&lt;NA&gt;"
      ],
      "text/latex": [
       "<NA>"
      ],
      "text/markdown": [
       "&lt;NA&gt;"
      ],
      "text/plain": [
       "[1] NA"
      ]
     },
     "metadata": {},
     "output_type": "display_data"
    }
   ],
   "source": [
    "mean(some_numbers)"
   ]
  },
  {
   "cell_type": "code",
   "execution_count": 81,
   "id": "903c6440",
   "metadata": {
    "vscode": {
     "languageId": "r"
    }
   },
   "outputs": [
    {
     "data": {
      "text/html": [
       "6"
      ],
      "text/latex": [
       "6"
      ],
      "text/markdown": [
       "6"
      ],
      "text/plain": [
       "[1] 6"
      ]
     },
     "metadata": {},
     "output_type": "display_data"
    }
   ],
   "source": [
    "mean(some_numbers, na.rm = TRUE)"
   ]
  },
  {
   "cell_type": "code",
   "execution_count": 82,
   "id": "98184893",
   "metadata": {
    "vscode": {
     "languageId": "r"
    }
   },
   "outputs": [
    {
     "name": "stderr",
     "output_type": "stream",
     "text": [
      "Installing package into 'C:/Users/emman/AppData/Local/R/win-library/4.2'\n",
      "(as 'lib' is unspecified)\n",
      "\n",
      "Warning message:\n",
      "\"package 'ggplot' is not available for this version of R\n",
      "\n",
      "A version of this package for your version of R might be available elsewhere,\n",
      "see the ideas at\n",
      "https://cran.r-project.org/doc/manuals/r-patched/R-admin.html#Installing-packages\"\n"
     ]
    }
   ],
   "source": [
    "install.packages(\"ggplot\")"
   ]
  },
  {
   "cell_type": "code",
   "execution_count": 83,
   "id": "0d40b137",
   "metadata": {
    "vscode": {
     "languageId": "r"
    }
   },
   "outputs": [
    {
     "ename": "ERROR",
     "evalue": "Error in library(ggplot): there is no package called 'ggplot'\n",
     "output_type": "error",
     "traceback": [
      "Error in library(ggplot): there is no package called 'ggplot'\nTraceback:\n",
      "1. library(ggplot)"
     ]
    }
   ],
   "source": [
    "library(ggplot)"
   ]
  },
  {
   "cell_type": "code",
   "execution_count": 84,
   "id": "b0ae480a",
   "metadata": {
    "vscode": {
     "languageId": "r"
    }
   },
   "outputs": [
    {
     "data": {
      "image/png": "[encoded data removed]",
      "text/plain": [
       "plot without title"
      ]
     },
     "metadata": {
      "image/png": {
       "height": 420,
       "width": 420
      }
     },
     "output_type": "display_data"
    }
   ],
   "source": [
    "ggplot(data = cardiacdata, mapping = aes(x = bodytemp_degC)) + \n",
    "  geom_histogram(bins = 20)"
   ]
  },
  {
   "cell_type": "code",
   "execution_count": 85,
   "id": "180dbe38",
   "metadata": {
    "vscode": {
     "languageId": "r"
    }
   },
   "outputs": [
    {
     "data": {
      "image/png": "[encoded data removed]",
      "text/plain": [
       "plot without title"
      ]
     },
     "metadata": {
      "image/png": {
       "height": 420,
       "width": 420
      }
     },
     "output_type": "display_data"
    }
   ],
   "source": [
    "ggplot(data = cardiacdata, mapping = aes(x = bodytemp_degC)) + \n",
    "  geom_histogram(bins = 20, aes(y = ..density..))"
   ]
  },
  {
   "cell_type": "code",
   "execution_count": 86,
   "id": "f3f88ad4",
   "metadata": {
    "vscode": {
     "languageId": "r"
    }
   },
   "outputs": [
    {
     "data": {
      "image/png": "[encoded data removed]",
      "text/plain": [
       "plot without title"
      ]
     },
     "metadata": {
      "image/png": {
       "height": 420,
       "width": 420
      }
     },
     "output_type": "display_data"
    }
   ],
   "source": [
    "ggplot(data = cardiacdata, mapping = aes(x = bodytemp_degC)) + \n",
    "  geom_histogram(bins = 20, aes(y = ..density..), fill = 'lightblue') +\n",
    "  xlab('body temperature (celsius)') +\n",
    "  ggtitle('distribution of body temperatures') +\n",
    "  theme_light()"
   ]
  },
  {
   "cell_type": "code",
   "execution_count": 87,
   "id": "a821481b",
   "metadata": {
    "vscode": {
     "languageId": "r"
    }
   },
   "outputs": [
    {
     "data": {
      "image/png": "[encoded data removed]",
      "text/plain": [
       "plot without title"
      ]
     },
     "metadata": {
      "image/png": {
       "height": 420,
       "width": 420
      }
     },
     "output_type": "display_data"
    }
   ],
   "source": [
    "ggplot(data = cardiacdata, mapping = aes(x = heartrate_bpm, y = bodytemp_degC)) + \n",
    "  geom_point() +\n",
    "  theme_light()"
   ]
  },
  {
   "cell_type": "code",
   "execution_count": 88,
   "id": "64e0b814",
   "metadata": {
    "vscode": {
     "languageId": "r"
    }
   },
   "outputs": [
    {
     "data": {
      "image/png": "[encoded data removed]",
      "text/plain": [
       "plot without title"
      ]
     },
     "metadata": {
      "image/png": {
       "height": 420,
       "width": 420
      }
     },
     "output_type": "display_data"
    }
   ],
   "source": [
    "ggplot(data = cardiacdata, mapping = aes(x = heartrate_bpm, y = bodytemp_degC, color = gender)) + \n",
    "  geom_point() +\n",
    "  theme_light()"
   ]
  },
  {
   "cell_type": "code",
   "execution_count": 89,
   "id": "1cfb463c",
   "metadata": {
    "vscode": {
     "languageId": "r"
    }
   },
   "outputs": [
    {
     "data": {
      "image/png": "[encoded data removed]",
      "text/plain": [
       "plot without title"
      ]
     },
     "metadata": {
      "image/png": {
       "height": 420,
       "width": 420
      }
     },
     "output_type": "display_data"
    }
   ],
   "source": [
    "ggplot(data = cardiacdata, mapping = aes(x = gender, y = bodytemp_degC)) +\n",
    "  geom_boxplot() +\n",
    "  xlab('gender') +\n",
    "  ylab('body temperature (celsius)') +\n",
    "  theme_light()"
   ]
  }
 ],
 "metadata": {
  "kernelspec": {
   "display_name": "R",
   "language": "R",
   "name": "ir"
  },
  "language_info": {
   "codemirror_mode": "r",
   "file_extension": ".r",
   "mimetype": "text/x-r-source",
   "name": "R",
   "pygments_lexer": "r",
   "version": "4.2.1"
  }
 },
 "nbformat": 4,
 "nbformat_minor": 5
}
