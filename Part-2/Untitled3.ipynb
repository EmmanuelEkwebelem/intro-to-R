{
 "cells": [
  {
   "cell_type": "code",
   "execution_count": 62,
   "id": "afb6d880",
   "metadata": {
    "scrolled": false
   },
   "outputs": [],
   "source": [
    "x <- 12"
   ]
  },
  {
   "cell_type": "code",
   "execution_count": 19,
   "id": "ee9a994e",
   "metadata": {},
   "outputs": [
    {
     "name": "stderr",
     "output_type": "stream",
     "text": [
      "also installing the dependencies 'processx', 'backports', 'ellipsis', 'lifecycle', 'tidyselect', 'vctrs', 'scales', 'gargle', 'fansi', 'utf8', 'vroom', 'callr', 'xfun', 'bslib', 'htmltools', 'tinytex', 'broom', 'cli', 'dbplyr', 'dplyr', 'forcats', 'ggplot2', 'googledrive', 'googlesheets4', 'haven', 'hms', 'jsonlite', 'lubridate', 'magrittr', 'modelr', 'pillar', 'purrr', 'readr', 'reprex', 'rlang', 'rvest', 'stringr', 'tibble', 'tidyr', 'xml2', 'glue', 'knitr', 'rmarkdown'\n",
      "\n"
     ]
    },
    {
     "name": "stdout",
     "output_type": "stream",
     "text": [
      "\n",
      "  There are binary versions available but the source versions are later:\n",
      "               binary source needs_compilation\n",
      "processx        3.5.2  3.8.0              TRUE\n",
      "backports       1.2.1  1.4.1              TRUE\n",
      "lifecycle       1.0.0  1.0.3             FALSE\n",
      "tidyselect      1.1.1  1.2.0             FALSE\n",
      "vctrs           0.3.8  0.5.0              TRUE\n",
      "scales          1.1.1  1.2.1             FALSE\n",
      "gargle          1.1.0  1.2.1             FALSE\n",
      "fansi           0.4.2  1.0.3              TRUE\n",
      "utf8            1.2.1  1.2.2              TRUE\n",
      "vroom           1.4.0  1.6.0              TRUE\n",
      "callr           3.7.0  3.7.2             FALSE\n",
      "xfun             0.22   0.34              TRUE\n",
      "bslib           0.2.4  0.4.0             FALSE\n",
      "htmltools     0.5.1.1  0.5.3              TRUE\n",
      "tinytex          0.31   0.42             FALSE\n",
      "broom           0.7.6  1.0.1             FALSE\n",
      "cli             2.5.0  3.4.1              TRUE\n",
      "dbplyr          2.1.1  2.2.1             FALSE\n",
      "dplyr           1.0.6 1.0.10              TRUE\n",
      "forcats         0.5.1  0.5.2             FALSE\n",
      "ggplot2         3.3.3  3.3.6             FALSE\n",
      "googledrive     1.0.1  2.0.0             FALSE\n",
      "googlesheets4   0.3.0  1.0.1             FALSE\n",
      "haven           2.4.1  2.5.1              TRUE\n",
      "hms             1.0.0  1.1.2             FALSE\n",
      "jsonlite        1.7.2  1.8.3              TRUE\n",
      "lubridate      1.7.10  1.8.0              TRUE\n",
      "magrittr        2.0.1  2.0.3              TRUE\n",
      "modelr          0.1.8  0.1.9             FALSE\n",
      "pillar          1.6.0  1.8.1             FALSE\n",
      "purrr           0.3.4  0.3.5              TRUE\n",
      "readr           1.4.0  2.1.3              TRUE\n",
      "reprex          2.0.0  2.0.2             FALSE\n",
      "rlang          0.4.11  1.0.6              TRUE\n",
      "rvest           1.0.0  1.0.3             FALSE\n",
      "stringr         1.4.0  1.4.1             FALSE\n",
      "tibble          3.1.1  3.1.8              TRUE\n",
      "tidyr           1.1.3  1.2.1              TRUE\n",
      "xml2            1.3.2  1.3.3              TRUE\n",
      "glue            1.4.2  1.6.2              TRUE\n",
      "knitr            1.33   1.40             FALSE\n",
      "rmarkdown         2.8   2.17             FALSE\n",
      "tidyverse       1.3.1  1.3.2             FALSE\n",
      "\n",
      "  Binaries will be installed\n",
      "package 'processx' successfully unpacked and MD5 sums checked\n",
      "package 'backports' successfully unpacked and MD5 sums checked\n"
     ]
    },
    {
     "name": "stderr",
     "output_type": "stream",
     "text": [
      "Warning message:\n",
      "\"cannot remove prior installation of package 'backports'\"Warning message in file.copy(savedcopy, lib, recursive = TRUE):\n",
      "\"problem copying C:\\Users\\emman\\anaconda3\\Lib\\R\\library\\00LOCK\\backports\\libs\\x64\\backports.dll.c~.conda_trash to C:\\Users\\emman\\anaconda3\\Lib\\R\\library\\backports\\libs\\x64\\backports.dll.c~.conda_trash: Permission denied\"Warning message:\n",
      "\"restored 'backports'\""
     ]
    },
    {
     "name": "stdout",
     "output_type": "stream",
     "text": [
      "package 'ellipsis' successfully unpacked and MD5 sums checked\n"
     ]
    },
    {
     "name": "stderr",
     "output_type": "stream",
     "text": [
      "Warning message:\n",
      "\"cannot remove prior installation of package 'ellipsis'\"Warning message in file.copy(savedcopy, lib, recursive = TRUE):\n",
      "\"problem copying C:\\Users\\emman\\anaconda3\\Lib\\R\\library\\00LOCK\\ellipsis\\libs\\x64\\ellipsis.dll.c~.conda_trash to C:\\Users\\emman\\anaconda3\\Lib\\R\\library\\ellipsis\\libs\\x64\\ellipsis.dll.c~.conda_trash: Permission denied\"Warning message:\n",
      "\"restored 'ellipsis'\""
     ]
    },
    {
     "name": "stdout",
     "output_type": "stream",
     "text": [
      "package 'vctrs' successfully unpacked and MD5 sums checked\n"
     ]
    },
    {
     "name": "stderr",
     "output_type": "stream",
     "text": [
      "Warning message:\n",
      "\"cannot remove prior installation of package 'vctrs'\"Warning message in file.copy(savedcopy, lib, recursive = TRUE):\n",
      "\"problem copying C:\\Users\\emman\\anaconda3\\Lib\\R\\library\\00LOCK\\vctrs\\libs\\x64\\vctrs.dll to C:\\Users\\emman\\anaconda3\\Lib\\R\\library\\vctrs\\libs\\x64\\vctrs.dll: Permission denied\"Warning message:\n",
      "\"restored 'vctrs'\""
     ]
    },
    {
     "name": "stdout",
     "output_type": "stream",
     "text": [
      "package 'fansi' successfully unpacked and MD5 sums checked\n"
     ]
    },
    {
     "name": "stderr",
     "output_type": "stream",
     "text": [
      "Warning message:\n",
      "\"cannot remove prior installation of package 'fansi'\"Warning message in file.copy(savedcopy, lib, recursive = TRUE):\n",
      "\"problem copying C:\\Users\\emman\\anaconda3\\Lib\\R\\library\\00LOCK\\fansi\\libs\\x64\\fansi.dll.c~.conda_trash to C:\\Users\\emman\\anaconda3\\Lib\\R\\library\\fansi\\libs\\x64\\fansi.dll.c~.conda_trash: Permission denied\"Warning message:\n",
      "\"restored 'fansi'\""
     ]
    },
    {
     "name": "stdout",
     "output_type": "stream",
     "text": [
      "package 'utf8' successfully unpacked and MD5 sums checked\n"
     ]
    },
    {
     "name": "stderr",
     "output_type": "stream",
     "text": [
      "Warning message:\n",
      "\"cannot remove prior installation of package 'utf8'\"Warning message in file.copy(savedcopy, lib, recursive = TRUE):\n",
      "\"problem copying C:\\Users\\emman\\anaconda3\\Lib\\R\\library\\00LOCK\\utf8\\libs\\x64\\utf8.dll.c~.conda_trash to C:\\Users\\emman\\anaconda3\\Lib\\R\\library\\utf8\\libs\\x64\\utf8.dll.c~.conda_trash: Permission denied\"Warning message:\n",
      "\"restored 'utf8'\""
     ]
    },
    {
     "name": "stdout",
     "output_type": "stream",
     "text": [
      "package 'vroom' successfully unpacked and MD5 sums checked\n",
      "package 'xfun' successfully unpacked and MD5 sums checked\n",
      "package 'htmltools' successfully unpacked and MD5 sums checked\n"
     ]
    },
    {
     "name": "stderr",
     "output_type": "stream",
     "text": [
      "Warning message:\n",
      "\"cannot remove prior installation of package 'htmltools'\"Warning message in file.copy(savedcopy, lib, recursive = TRUE):\n",
      "\"problem copying C:\\Users\\emman\\anaconda3\\Lib\\R\\library\\00LOCK\\htmltools\\libs\\x64\\htmltools.dll to C:\\Users\\emman\\anaconda3\\Lib\\R\\library\\htmltools\\libs\\x64\\htmltools.dll: Permission denied\"Warning message:\n",
      "\"restored 'htmltools'\""
     ]
    },
    {
     "name": "stdout",
     "output_type": "stream",
     "text": [
      "package 'cli' successfully unpacked and MD5 sums checked\n",
      "package 'dplyr' successfully unpacked and MD5 sums checked\n"
     ]
    },
    {
     "name": "stderr",
     "output_type": "stream",
     "text": [
      "Warning message:\n",
      "\"cannot remove prior installation of package 'dplyr'\"Warning message in file.copy(savedcopy, lib, recursive = TRUE):\n",
      "\"problem copying C:\\Users\\emman\\anaconda3\\Lib\\R\\library\\00LOCK\\dplyr\\libs\\x64\\dplyr.dll.c~.conda_trash to C:\\Users\\emman\\anaconda3\\Lib\\R\\library\\dplyr\\libs\\x64\\dplyr.dll.c~.conda_trash: Permission denied\"Warning message:\n",
      "\"restored 'dplyr'\""
     ]
    },
    {
     "name": "stdout",
     "output_type": "stream",
     "text": [
      "package 'haven' successfully unpacked and MD5 sums checked\n"
     ]
    },
    {
     "name": "stderr",
     "output_type": "stream",
     "text": [
      "Warning message:\n",
      "\"cannot remove prior installation of package 'haven'\"Warning message in file.copy(savedcopy, lib, recursive = TRUE):\n",
      "\"problem copying C:\\Users\\emman\\anaconda3\\Lib\\R\\library\\00LOCK\\haven\\libs\\x64\\haven.dll.c~.conda_trash to C:\\Users\\emman\\anaconda3\\Lib\\R\\library\\haven\\libs\\x64\\haven.dll.c~.conda_trash: Permission denied\"Warning message:\n",
      "\"restored 'haven'\""
     ]
    },
    {
     "name": "stdout",
     "output_type": "stream",
     "text": [
      "package 'jsonlite' successfully unpacked and MD5 sums checked\n"
     ]
    },
    {
     "name": "stderr",
     "output_type": "stream",
     "text": [
      "Warning message:\n",
      "\"cannot remove prior installation of package 'jsonlite'\"Warning message in file.copy(savedcopy, lib, recursive = TRUE):\n",
      "\"problem copying C:\\Users\\emman\\anaconda3\\Lib\\R\\library\\00LOCK\\jsonlite\\libs\\x64\\jsonlite.dll to C:\\Users\\emman\\anaconda3\\Lib\\R\\library\\jsonlite\\libs\\x64\\jsonlite.dll: Permission denied\"Warning message:\n",
      "\"restored 'jsonlite'\""
     ]
    },
    {
     "name": "stdout",
     "output_type": "stream",
     "text": [
      "package 'lubridate' successfully unpacked and MD5 sums checked\n",
      "package 'magrittr' successfully unpacked and MD5 sums checked\n"
     ]
    },
    {
     "name": "stderr",
     "output_type": "stream",
     "text": [
      "Warning message:\n",
      "\"cannot remove prior installation of package 'magrittr'\"Warning message in file.copy(savedcopy, lib, recursive = TRUE):\n",
      "\"problem copying C:\\Users\\emman\\anaconda3\\Lib\\R\\library\\00LOCK\\magrittr\\libs\\x64\\magrittr.dll to C:\\Users\\emman\\anaconda3\\Lib\\R\\library\\magrittr\\libs\\x64\\magrittr.dll: Permission denied\"Warning message:\n",
      "\"restored 'magrittr'\""
     ]
    },
    {
     "name": "stdout",
     "output_type": "stream",
     "text": [
      "package 'purrr' successfully unpacked and MD5 sums checked\n"
     ]
    },
    {
     "name": "stderr",
     "output_type": "stream",
     "text": [
      "Warning message:\n",
      "\"cannot remove prior installation of package 'purrr'\"Warning message in file.copy(savedcopy, lib, recursive = TRUE):\n",
      "\"problem copying C:\\Users\\emman\\anaconda3\\Lib\\R\\library\\00LOCK\\purrr\\libs\\x64\\purrr.dll.c~.conda_trash to C:\\Users\\emman\\anaconda3\\Lib\\R\\library\\purrr\\libs\\x64\\purrr.dll.c~.conda_trash: Permission denied\"Warning message:\n",
      "\"restored 'purrr'\""
     ]
    },
    {
     "name": "stdout",
     "output_type": "stream",
     "text": [
      "package 'readr' successfully unpacked and MD5 sums checked\n",
      "package 'rlang' successfully unpacked and MD5 sums checked\n"
     ]
    },
    {
     "name": "stderr",
     "output_type": "stream",
     "text": [
      "Warning message:\n",
      "\"cannot remove prior installation of package 'rlang'\"Warning message in file.copy(savedcopy, lib, recursive = TRUE):\n",
      "\"problem copying C:\\Users\\emman\\anaconda3\\Lib\\R\\library\\00LOCK\\rlang\\libs\\x64\\rlang.dll.c~.conda_trash to C:\\Users\\emman\\anaconda3\\Lib\\R\\library\\rlang\\libs\\x64\\rlang.dll.c~.conda_trash: Permission denied\"Warning message:\n",
      "\"restored 'rlang'\""
     ]
    },
    {
     "name": "stdout",
     "output_type": "stream",
     "text": [
      "package 'tibble' successfully unpacked and MD5 sums checked\n"
     ]
    },
    {
     "name": "stderr",
     "output_type": "stream",
     "text": [
      "Warning message:\n",
      "\"cannot remove prior installation of package 'tibble'\"Warning message in file.copy(savedcopy, lib, recursive = TRUE):\n",
      "\"problem copying C:\\Users\\emman\\anaconda3\\Lib\\R\\library\\00LOCK\\tibble\\libs\\x64\\tibble.dll.c~.conda_trash to C:\\Users\\emman\\anaconda3\\Lib\\R\\library\\tibble\\libs\\x64\\tibble.dll.c~.conda_trash: Permission denied\"Warning message:\n",
      "\"restored 'tibble'\""
     ]
    },
    {
     "name": "stdout",
     "output_type": "stream",
     "text": [
      "package 'tidyr' successfully unpacked and MD5 sums checked\n"
     ]
    },
    {
     "name": "stderr",
     "output_type": "stream",
     "text": [
      "Warning message:\n",
      "\"cannot remove prior installation of package 'tidyr'\"Warning message in file.copy(savedcopy, lib, recursive = TRUE):\n",
      "\"problem copying C:\\Users\\emman\\anaconda3\\Lib\\R\\library\\00LOCK\\tidyr\\libs\\x64\\tidyr.dll.c~.conda_trash to C:\\Users\\emman\\anaconda3\\Lib\\R\\library\\tidyr\\libs\\x64\\tidyr.dll.c~.conda_trash: Permission denied\"Warning message:\n",
      "\"restored 'tidyr'\""
     ]
    },
    {
     "name": "stdout",
     "output_type": "stream",
     "text": [
      "package 'xml2' successfully unpacked and MD5 sums checked\n",
      "package 'glue' successfully unpacked and MD5 sums checked\n"
     ]
    },
    {
     "name": "stderr",
     "output_type": "stream",
     "text": [
      "Warning message:\n",
      "\"cannot remove prior installation of package 'glue'\"Warning message in file.copy(savedcopy, lib, recursive = TRUE):\n",
      "\"problem copying C:\\Users\\emman\\anaconda3\\Lib\\R\\library\\00LOCK\\glue\\libs\\x64\\glue.dll.c~.conda_trash to C:\\Users\\emman\\anaconda3\\Lib\\R\\library\\glue\\libs\\x64\\glue.dll.c~.conda_trash: Permission denied\"Warning message:\n",
      "\"restored 'glue'\""
     ]
    },
    {
     "name": "stdout",
     "output_type": "stream",
     "text": [
      "\n",
      "The downloaded binary packages are in\n",
      "\tC:\\Users\\emman\\AppData\\Local\\Temp\\RtmpoJptwD\\downloaded_packages\n"
     ]
    },
    {
     "name": "stderr",
     "output_type": "stream",
     "text": [
      "installing the source packages 'lifecycle', 'tidyselect', 'scales', 'gargle', 'callr', 'bslib', 'tinytex', 'broom', 'dbplyr', 'forcats', 'ggplot2', 'googledrive', 'googlesheets4', 'hms', 'modelr', 'pillar', 'reprex', 'rvest', 'stringr', 'knitr', 'rmarkdown', 'tidyverse'\n",
      "\n",
      "Warning message in install.packages(\"tidyverse\", dependencies = TRUE, INSTALL_opts = \"--no-lock\"):\n",
      "\"installation of package 'lifecycle' had non-zero exit status\"Warning message in install.packages(\"tidyverse\", dependencies = TRUE, INSTALL_opts = \"--no-lock\"):\n",
      "\"installation of package 'gargle' had non-zero exit status\"Warning message in install.packages(\"tidyverse\", dependencies = TRUE, INSTALL_opts = \"--no-lock\"):\n",
      "\"installation of package 'callr' had non-zero exit status\"Warning message in install.packages(\"tidyverse\", dependencies = TRUE, INSTALL_opts = \"--no-lock\"):\n",
      "\"installation of package 'bslib' had non-zero exit status\"Warning message in install.packages(\"tidyverse\", dependencies = TRUE, INSTALL_opts = \"--no-lock\"):\n",
      "\"installation of package 'tinytex' had non-zero exit status\"Warning message in install.packages(\"tidyverse\", dependencies = TRUE, INSTALL_opts = \"--no-lock\"):\n",
      "\"installation of package 'stringr' had non-zero exit status\"Warning message in install.packages(\"tidyverse\", dependencies = TRUE, INSTALL_opts = \"--no-lock\"):\n",
      "\"installation of package 'tidyselect' had non-zero exit status\"Warning message in install.packages(\"tidyverse\", dependencies = TRUE, INSTALL_opts = \"--no-lock\"):\n",
      "\"installation of package 'scales' had non-zero exit status\"Warning message in install.packages(\"tidyverse\", dependencies = TRUE, INSTALL_opts = \"--no-lock\"):\n",
      "\"installation of package 'forcats' had non-zero exit status\"Warning message in install.packages(\"tidyverse\", dependencies = TRUE, INSTALL_opts = \"--no-lock\"):\n",
      "\"installation of package 'hms' had non-zero exit status\"Warning message in install.packages(\"tidyverse\", dependencies = TRUE, INSTALL_opts = \"--no-lock\"):\n",
      "\"installation of package 'pillar' had non-zero exit status\"Warning message in install.packages(\"tidyverse\", dependencies = TRUE, INSTALL_opts = \"--no-lock\"):\n",
      "\"installation of package 'rvest' had non-zero exit status\"Warning message in install.packages(\"tidyverse\", dependencies = TRUE, INSTALL_opts = \"--no-lock\"):\n",
      "\"installation of package 'knitr' had non-zero exit status\"Warning message in install.packages(\"tidyverse\", dependencies = TRUE, INSTALL_opts = \"--no-lock\"):\n",
      "\"installation of package 'dbplyr' had non-zero exit status\"Warning message in install.packages(\"tidyverse\", dependencies = TRUE, INSTALL_opts = \"--no-lock\"):\n",
      "\"installation of package 'ggplot2' had non-zero exit status\"Warning message in install.packages(\"tidyverse\", dependencies = TRUE, INSTALL_opts = \"--no-lock\"):\n",
      "\"installation of package 'googledrive' had non-zero exit status\"Warning message in install.packages(\"tidyverse\", dependencies = TRUE, INSTALL_opts = \"--no-lock\"):\n",
      "\"installation of package 'rmarkdown' had non-zero exit status\"Warning message in install.packages(\"tidyverse\", dependencies = TRUE, INSTALL_opts = \"--no-lock\"):\n",
      "\"installation of package 'broom' had non-zero exit status\"Warning message in install.packages(\"tidyverse\", dependencies = TRUE, INSTALL_opts = \"--no-lock\"):\n",
      "\"installation of package 'googlesheets4' had non-zero exit status\"Warning message in install.packages(\"tidyverse\", dependencies = TRUE, INSTALL_opts = \"--no-lock\"):\n",
      "\"installation of package 'reprex' had non-zero exit status\"Warning message in install.packages(\"tidyverse\", dependencies = TRUE, INSTALL_opts = \"--no-lock\"):\n",
      "\"installation of package 'modelr' had non-zero exit status\"Warning message in install.packages(\"tidyverse\", dependencies = TRUE, INSTALL_opts = \"--no-lock\"):\n",
      "\"installation of package 'tidyverse' had non-zero exit status\""
     ]
    }
   ],
   "source": [
    "install.packages(\"tidyverse\", dependencies = TRUE, INSTALL_opts = '--no-lock')"
   ]
  },
  {
   "cell_type": "code",
   "execution_count": 9,
   "id": "aabe86d7",
   "metadata": {
    "scrolled": true
   },
   "outputs": [
    {
     "data": {
      "text/plain": [
       "R version 3.6.1 (2019-07-05)\n",
       "Platform: x86_64-w64-mingw32/x64 (64-bit)\n",
       "Running under: Windows 10 x64 (build 19044)\n",
       "\n",
       "Matrix products: default\n",
       "\n",
       "locale:\n",
       "[1] LC_COLLATE=English_United States.1252 \n",
       "[2] LC_CTYPE=English_United States.1252   \n",
       "[3] LC_MONETARY=English_United States.1252\n",
       "[4] LC_NUMERIC=C                          \n",
       "[5] LC_TIME=English_United States.1252    \n",
       "\n",
       "attached base packages:\n",
       "[1] stats     graphics  grDevices utils     datasets  methods   base     \n",
       "\n",
       "loaded via a namespace (and not attached):\n",
       " [1] compiler_3.6.1  IRdisplay_0.7.0 pbdZMQ_0.3-3    tools_3.6.1    \n",
       " [5] htmltools_0.3.6 base64enc_0.1-3 crayon_1.5.2    Rcpp_1.0.1     \n",
       " [9] uuid_0.1-2      IRkernel_0.8.15 jsonlite_1.6    digest_0.6.18  \n",
       "[13] repr_0.19.2     evaluate_0.17  "
      ]
     },
     "metadata": {},
     "output_type": "display_data"
    }
   ],
   "source": [
    "sessionInfo()"
   ]
  },
  {
   "cell_type": "code",
   "execution_count": 63,
   "id": "f9ca68e9",
   "metadata": {
    "scrolled": true
   },
   "outputs": [],
   "source": [
    "# create vector of integers from 0 to 9\n",
    "some_numbers <- c(0,1,2,3,4,5,6,7,8,9)\n",
    "\n",
    "# alternatively \n",
    "some_numbers <- c(0:9)"
   ]
  },
  {
   "cell_type": "code",
   "execution_count": null,
   "id": "7a3d3c9d",
   "metadata": {},
   "outputs": [],
   "source": []
  },
  {
   "cell_type": "code",
   "execution_count": 64,
   "id": "c7ddffdd",
   "metadata": {},
   "outputs": [
    {
     "data": {
      "text/html": [
       "4.5"
      ],
      "text/latex": [
       "4.5"
      ],
      "text/markdown": [
       "4.5"
      ],
      "text/plain": [
       "[1] 4.5"
      ]
     },
     "metadata": {},
     "output_type": "display_data"
    }
   ],
   "source": [
    "mean(some_numbers)"
   ]
  },
  {
   "cell_type": "code",
   "execution_count": 20,
   "id": "d73d94af",
   "metadata": {},
   "outputs": [
    {
     "ename": "ERROR",
     "evalue": "Error in library(tidyverse): there is no package called 'tidyverse'\n",
     "output_type": "error",
     "traceback": [
      "Error in library(tidyverse): there is no package called 'tidyverse'\nTraceback:\n",
      "1. library(tidyverse)"
     ]
    }
   ],
   "source": [
    "library(tidyverse)"
   ]
  },
  {
   "cell_type": "code",
   "execution_count": null,
   "id": "3b9d1ea2",
   "metadata": {},
   "outputs": [],
   "source": [
    "paygap <- read.csv('C:/Users/emman/Desktop/HHA 507/intro-to-R/Part-2/data/UK Gender Pay Gap Data - 2019 to 2020.csv', header = TRUE)"
   ]
  },
  {
   "cell_type": "code",
   "execution_count": null,
   "id": "afb0659a",
   "metadata": {},
   "outputs": [],
   "source": [
    "head(paygap, n = 5)"
   ]
  },
  {
   "cell_type": "code",
   "execution_count": null,
   "id": "8c6f5802",
   "metadata": {},
   "outputs": [],
   "source": [
    "colnames(paygap)"
   ]
  },
  {
   "cell_type": "code",
   "execution_count": null,
   "id": "6eb65e02",
   "metadata": {},
   "outputs": [],
   "source": [
    "dim(paygap)"
   ]
  },
  {
   "cell_type": "code",
   "execution_count": null,
   "id": "818a9786",
   "metadata": {},
   "outputs": [],
   "source": [
    "class(paygap)"
   ]
  },
  {
   "cell_type": "code",
   "execution_count": null,
   "id": "43fe4534",
   "metadata": {},
   "outputs": [],
   "source": [
    "class(paygap$DiffMeanHourlyPercent)"
   ]
  },
  {
   "cell_type": "code",
   "execution_count": null,
   "id": "46f217dc",
   "metadata": {},
   "outputs": [],
   "source": []
  },
  {
   "cell_type": "code",
   "execution_count": null,
   "id": "56e695ab",
   "metadata": {},
   "outputs": [],
   "source": [
    "cardiacdata <- read.csv('C:/Users/emman/Desktop/HHA 507/intro-to-R/Part-2/data/_data_normtemp.csv', header = TRUE)"
   ]
  },
  {
   "cell_type": "code",
   "execution_count": null,
   "id": "4539a163",
   "metadata": {},
   "outputs": [],
   "source": [
    "head(cardiacdata, n = 5)"
   ]
  },
  {
   "cell_type": "code",
   "execution_count": null,
   "id": "fd2314eb",
   "metadata": {},
   "outputs": [],
   "source": [
    "colnames(cardiacdata)"
   ]
  },
  {
   "cell_type": "code",
   "execution_count": null,
   "id": "2920e5b2",
   "metadata": {},
   "outputs": [],
   "source": [
    "dim(cardiacdata)"
   ]
  },
  {
   "cell_type": "code",
   "execution_count": null,
   "id": "6e97ec7a",
   "metadata": {},
   "outputs": [],
   "source": [
    "class(cardiacdata)"
   ]
  },
  {
   "cell_type": "code",
   "execution_count": null,
   "id": "f3466f6d",
   "metadata": {},
   "outputs": [],
   "source": [
    "class(cardiacdata$bodytemp)"
   ]
  },
  {
   "cell_type": "code",
   "execution_count": null,
   "id": "7742a72b",
   "metadata": {},
   "outputs": [],
   "source": [
    "class(cardiacdata$heartrate)"
   ]
  },
  {
   "cell_type": "code",
   "execution_count": null,
   "id": "4d1e5b62",
   "metadata": {},
   "outputs": [],
   "source": []
  },
  {
   "cell_type": "code",
   "execution_count": null,
   "id": "bc3b16ab",
   "metadata": {},
   "outputs": [],
   "source": [
    "# extract element in 1st row and 3th column\n",
    "cardiacdata[1,3]"
   ]
  },
  {
   "cell_type": "code",
   "execution_count": null,
   "id": "2618251c",
   "metadata": {},
   "outputs": [],
   "source": [
    "# extract rows 5-7 from columns 1-3\n",
    "cardiacdata[5:7,1:3]"
   ]
  },
  {
   "cell_type": "code",
   "execution_count": null,
   "id": "5805b457",
   "metadata": {},
   "outputs": [],
   "source": [
    "# extract column 'bodytemp' and assign to new object 'temperatures'\n",
    "temperatures <- cardiacdata$bodytemp"
   ]
  },
  {
   "cell_type": "code",
   "execution_count": null,
   "id": "698f0c6d",
   "metadata": {},
   "outputs": [],
   "source": [
    "# select columns 'gender' and 'heartrate' and assign to new object 'heartrates'\n",
    "heartrates <- select(cardiacdata, gender, heartrate)"
   ]
  },
  {
   "cell_type": "code",
   "execution_count": null,
   "id": "0415f424",
   "metadata": {},
   "outputs": [],
   "source": [
    "## append variable names with their respective units\n",
    "# rename 'bodytemp' to 'bodytemp_degF'\n",
    "cardiacdata <- rename(cardiacdata, bodytemp_degF = bodytemp)\n",
    "\n",
    "# rename 'heartrate' to 'heartrate_bpm'\n",
    "cardiacdata <- rename(cardiacdata, heartrate_bpm = heartrate)"
   ]
  },
  {
   "cell_type": "code",
   "execution_count": null,
   "id": "d9a1179e",
   "metadata": {},
   "outputs": [],
   "source": [
    "head(cardiacdata)"
   ]
  },
  {
   "cell_type": "code",
   "execution_count": null,
   "id": "04834ee4",
   "metadata": {},
   "outputs": [],
   "source": [
    "# add new column with body temperature in degrees celsius\n",
    "cardiacdata <- mutate(cardiacdata, bodytemp_degC = (bodytemp_degF - 32)*(5/9))"
   ]
  },
  {
   "cell_type": "code",
   "execution_count": null,
   "id": "9506650e",
   "metadata": {},
   "outputs": [],
   "source": [
    "# change values in gender column to read \"Female\" and \"Male\" instead of 1 and 2\n",
    "cardiacdata <- mutate(cardiacdata, gender = ifelse(gender == 1, 'Female', \n",
    "                                            ifelse(gender == 2, 'Male', NA)))"
   ]
  },
  {
   "cell_type": "code",
   "execution_count": null,
   "id": "569aced7",
   "metadata": {},
   "outputs": [],
   "source": [
    "head(cardiacdata)"
   ]
  },
  {
   "cell_type": "code",
   "execution_count": null,
   "id": "f77bb5f4",
   "metadata": {},
   "outputs": [],
   "source": [
    "# filter for data from female subjects only\n",
    "cardiacdata_female <- filter(cardiacdata, gender == 'Female')"
   ]
  },
  {
   "cell_type": "code",
   "execution_count": null,
   "id": "21566bcc",
   "metadata": {},
   "outputs": [],
   "source": [
    "cardiacdata <- cardiacdata %>%\n",
    "  filter(gender == 'Female') %>%\n",
    "  select(-gender) %>%\n",
    "  mutate(bodytemp_Kelvin = bodytemp_degC + 273)"
   ]
  },
  {
   "cell_type": "code",
   "execution_count": null,
   "id": "fd47c4aa",
   "metadata": {},
   "outputs": [],
   "source": [
    "head(cardiacdata)"
   ]
  },
  {
   "cell_type": "code",
   "execution_count": null,
   "id": "df9fd8a8",
   "metadata": {},
   "outputs": [],
   "source": [
    "cardiacdata_byGender <- cardiacdata %>%\n",
    "  group_by(gender) %>%\n",
    "  summarize(avg_bodytemp_degF = mean(bodytemp_degF),\n",
    "            avg_bodytemp_degC = mean(bodytemp_degC), \n",
    "            avg_heartrate_bpm = mean(heartrate_bpm))"
   ]
  },
  {
   "cell_type": "code",
   "execution_count": null,
   "id": "ce9d5e80",
   "metadata": {},
   "outputs": [],
   "source": [
    "some_numbers <- c(4,5,6,7,NA,8)"
   ]
  },
  {
   "cell_type": "code",
   "execution_count": null,
   "id": "57e5c6ed",
   "metadata": {},
   "outputs": [],
   "source": [
    "mean(some_numbers)"
   ]
  },
  {
   "cell_type": "code",
   "execution_count": null,
   "id": "903c6440",
   "metadata": {},
   "outputs": [],
   "source": [
    "mean(some_numbers, na.rm = TRUE)"
   ]
  },
  {
   "cell_type": "code",
   "execution_count": null,
   "id": "b0ae480a",
   "metadata": {},
   "outputs": [],
   "source": [
    "ggplot(data = cardiacdata, mapping = aes(x = bodytemp_degC)) + \n",
    "  geom_histogram(bins = 20)"
   ]
  },
  {
   "cell_type": "code",
   "execution_count": null,
   "id": "180dbe38",
   "metadata": {},
   "outputs": [],
   "source": [
    "ggplot(data = cardiacdata, mapping = aes(x = bodytemp_degC)) + \n",
    "  geom_histogram(bins = 20, aes(y = ..density..))"
   ]
  },
  {
   "cell_type": "code",
   "execution_count": null,
   "id": "f3f88ad4",
   "metadata": {},
   "outputs": [],
   "source": [
    "ggplot(data = cardiacdata, mapping = aes(x = bodytemp_degC)) + \n",
    "  geom_histogram(bins = 20, aes(y = ..density..), fill = 'lightblue') +\n",
    "  xlab('body temperature (celsius)') +\n",
    "  ggtitle('distribution of body temperatures') +\n",
    "  theme_light()"
   ]
  },
  {
   "cell_type": "code",
   "execution_count": null,
   "id": "a821481b",
   "metadata": {},
   "outputs": [],
   "source": [
    "ggplot(data = cardiacdata, mapping = aes(x = heartrate_bpm, y = bodytemp_degC)) + \n",
    "  geom_point() +\n",
    "  theme_light()"
   ]
  },
  {
   "cell_type": "code",
   "execution_count": null,
   "id": "64e0b814",
   "metadata": {},
   "outputs": [],
   "source": [
    "ggplot(data = cardiacdata, mapping = aes(x = heartrate_bpm, y = bodytemp_degC, color = gender)) + \n",
    "  geom_point() +\n",
    "  theme_light()"
   ]
  },
  {
   "cell_type": "code",
   "execution_count": null,
   "id": "1cfb463c",
   "metadata": {},
   "outputs": [],
   "source": [
    "ggplot(data = cardiacdata, mapping = aes(x = gender, y = bodytemp_degC)) +\n",
    "  geom_boxplot() +\n",
    "  xlab('gender') +\n",
    "  ylab('body temperature (celsius)') +\n",
    "  theme_light()"
   ]
  },
  {
   "cell_type": "code",
   "execution_count": null,
   "id": "866dffd6",
   "metadata": {},
   "outputs": [],
   "source": []
  },
  {
   "cell_type": "code",
   "execution_count": null,
   "id": "3872ee58",
   "metadata": {},
   "outputs": [],
   "source": []
  },
  {
   "cell_type": "code",
   "execution_count": null,
   "id": "1a4ac4a5",
   "metadata": {},
   "outputs": [],
   "source": []
  },
  {
   "cell_type": "code",
   "execution_count": null,
   "id": "4069ccf1",
   "metadata": {},
   "outputs": [],
   "source": []
  },
  {
   "cell_type": "code",
   "execution_count": null,
   "id": "14fdf567",
   "metadata": {},
   "outputs": [],
   "source": []
  }
 ],
 "metadata": {
  "kernelspec": {
   "display_name": "R",
   "language": "R",
   "name": "ir"
  },
  "language_info": {
   "codemirror_mode": "r",
   "file_extension": ".r",
   "mimetype": "text/x-r-source",
   "name": "R",
   "pygments_lexer": "r",
   "version": "3.6.1"
  }
 },
 "nbformat": 4,
 "nbformat_minor": 5
}
