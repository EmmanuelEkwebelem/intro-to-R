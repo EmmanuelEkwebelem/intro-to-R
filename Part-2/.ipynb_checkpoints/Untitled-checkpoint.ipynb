{
 "cells": [
  {
   "cell_type": "code",
   "execution_count": 1,
   "id": "afb6d880",
   "metadata": {},
   "outputs": [
    {
     "ename": "NameError",
     "evalue": "name 'x' is not defined",
     "output_type": "error",
     "traceback": [
      "\u001b[1;31m---------------------------------------------------------------------------\u001b[0m",
      "\u001b[1;31mNameError\u001b[0m                                 Traceback (most recent call last)",
      "\u001b[1;32m~\\AppData\\Local\\Temp\\ipykernel_21416\\2395378821.py\u001b[0m in \u001b[0;36m<module>\u001b[1;34m\u001b[0m\n\u001b[1;32m----> 1\u001b[1;33m \u001b[0mx\u001b[0m \u001b[1;33m<\u001b[0m\u001b[1;33m-\u001b[0m \u001b[1;36m12\u001b[0m\u001b[1;33m\u001b[0m\u001b[1;33m\u001b[0m\u001b[0m\n\u001b[0m",
      "\u001b[1;31mNameError\u001b[0m: name 'x' is not defined"
     ]
    }
   ],
   "source": [
    "x <- 12"
   ]
  },
  {
   "cell_type": "code",
   "execution_count": 2,
   "id": "f9ca68e9",
   "metadata": {},
   "outputs": [
    {
     "ename": "SyntaxError",
     "evalue": "invalid syntax (79892886.py, line 5)",
     "output_type": "error",
     "traceback": [
      "\u001b[1;36m  File \u001b[1;32m\"C:\\Users\\emman\\AppData\\Local\\Temp\\ipykernel_21416\\79892886.py\"\u001b[1;36m, line \u001b[1;32m5\u001b[0m\n\u001b[1;33m    some_numbers <- c(0:9)\u001b[0m\n\u001b[1;37m                       ^\u001b[0m\n\u001b[1;31mSyntaxError\u001b[0m\u001b[1;31m:\u001b[0m invalid syntax\n"
     ]
    }
   ],
   "source": [
    "# create vector of integers from 0 to 9\n",
    "some_numbers <- c(0,1,2,3,4,5,6,7,8,9)\n",
    "\n",
    "# alternatively \n",
    "some_numbers <- c(0:9)"
   ]
  },
  {
   "cell_type": "code",
   "execution_count": 3,
   "id": "c7ddffdd",
   "metadata": {},
   "outputs": [
    {
     "ename": "NameError",
     "evalue": "name 'mean' is not defined",
     "output_type": "error",
     "traceback": [
      "\u001b[1;31m---------------------------------------------------------------------------\u001b[0m",
      "\u001b[1;31mNameError\u001b[0m                                 Traceback (most recent call last)",
      "\u001b[1;32m~\\AppData\\Local\\Temp\\ipykernel_21416\\3338961342.py\u001b[0m in \u001b[0;36m<module>\u001b[1;34m\u001b[0m\n\u001b[1;32m----> 1\u001b[1;33m \u001b[0mmean\u001b[0m\u001b[1;33m(\u001b[0m\u001b[0msome_numbers\u001b[0m\u001b[1;33m)\u001b[0m\u001b[1;33m\u001b[0m\u001b[1;33m\u001b[0m\u001b[0m\n\u001b[0m",
      "\u001b[1;31mNameError\u001b[0m: name 'mean' is not defined"
     ]
    }
   ],
   "source": [
    "mean(some_numbers)"
   ]
  },
  {
   "cell_type": "code",
   "execution_count": null,
   "id": "06ca72a3",
   "metadata": {},
   "outputs": [],
   "source": [
    "install.packages('tidyverse')"
   ]
  },
  {
   "cell_type": "code",
   "execution_count": null,
   "id": "d73d94af",
   "metadata": {},
   "outputs": [],
   "source": [
    "library(tidyverse)"
   ]
  },
  {
   "cell_type": "code",
   "execution_count": null,
   "id": "3b9d1ea2",
   "metadata": {},
   "outputs": [],
   "source": [
    "paygap <- read.csv('HHA 507/intro-to-R/Part-2/data/UK Gender Pay Gap Data - 2019 to 2020.csv', header = TRUE)"
   ]
  },
  {
   "cell_type": "code",
   "execution_count": null,
   "id": "afb0659a",
   "metadata": {},
   "outputs": [],
   "source": [
    "head(paygap, n = 5)"
   ]
  },
  {
   "cell_type": "code",
   "execution_count": null,
   "id": "8c6f5802",
   "metadata": {},
   "outputs": [],
   "source": [
    "colnames(paygap)"
   ]
  },
  {
   "cell_type": "code",
   "execution_count": null,
   "id": "6eb65e02",
   "metadata": {},
   "outputs": [],
   "source": [
    "dim(paygap)"
   ]
  },
  {
   "cell_type": "code",
   "execution_count": null,
   "id": "818a9786",
   "metadata": {},
   "outputs": [],
   "source": [
    "class(paygap)"
   ]
  },
  {
   "cell_type": "code",
   "execution_count": null,
   "id": "43fe4534",
   "metadata": {},
   "outputs": [],
   "source": [
    "class(paygap$DiffMeanHourlyPercent)"
   ]
  },
  {
   "cell_type": "code",
   "execution_count": null,
   "id": "46f217dc",
   "metadata": {},
   "outputs": [],
   "source": []
  },
  {
   "cell_type": "code",
   "execution_count": null,
   "id": "56e695ab",
   "metadata": {},
   "outputs": [],
   "source": [
    "cardiacdata <- read.csv('HHA 507/intro-to-R/Part-2/data/_data_normtemp.csv', header = TRUE)"
   ]
  },
  {
   "cell_type": "code",
   "execution_count": null,
   "id": "4539a163",
   "metadata": {},
   "outputs": [],
   "source": [
    "head(cardiacdata, n = 5)"
   ]
  },
  {
   "cell_type": "code",
   "execution_count": null,
   "id": "fd2314eb",
   "metadata": {},
   "outputs": [],
   "source": [
    "colnames(cardiacdata)"
   ]
  },
  {
   "cell_type": "code",
   "execution_count": null,
   "id": "2920e5b2",
   "metadata": {},
   "outputs": [],
   "source": [
    "dim(cardiacdata)"
   ]
  },
  {
   "cell_type": "code",
   "execution_count": null,
   "id": "6e97ec7a",
   "metadata": {},
   "outputs": [],
   "source": [
    "class(cardiacdata)"
   ]
  },
  {
   "cell_type": "code",
   "execution_count": null,
   "id": "f3466f6d",
   "metadata": {},
   "outputs": [],
   "source": [
    "class(cardiacdata$bodytemp)"
   ]
  },
  {
   "cell_type": "code",
   "execution_count": null,
   "id": "7742a72b",
   "metadata": {},
   "outputs": [],
   "source": [
    "class(cardiacdata$heartrate)"
   ]
  },
  {
   "cell_type": "code",
   "execution_count": null,
   "id": "4d1e5b62",
   "metadata": {},
   "outputs": [],
   "source": []
  },
  {
   "cell_type": "code",
   "execution_count": null,
   "id": "bc3b16ab",
   "metadata": {},
   "outputs": [],
   "source": [
    "# extract element in 1st row and 3th column\n",
    "cardiacdata[1,3]"
   ]
  },
  {
   "cell_type": "code",
   "execution_count": null,
   "id": "2618251c",
   "metadata": {},
   "outputs": [],
   "source": [
    "# extract rows 5-7 from columns 1-3\n",
    "cardiacdata[5:7,1:3]"
   ]
  },
  {
   "cell_type": "code",
   "execution_count": null,
   "id": "5805b457",
   "metadata": {},
   "outputs": [],
   "source": [
    "# extract column 'bodytemp' and assign to new object 'temperatures'\n",
    "temperatures <- cardiacdata$bodytemp"
   ]
  },
  {
   "cell_type": "code",
   "execution_count": null,
   "id": "698f0c6d",
   "metadata": {},
   "outputs": [],
   "source": [
    "# select columns 'gender' and 'heartrate' and assign to new object 'heartrates'\n",
    "heartrates <- select(cardiacdata, gender, heartrate)"
   ]
  },
  {
   "cell_type": "code",
   "execution_count": null,
   "id": "0415f424",
   "metadata": {},
   "outputs": [],
   "source": [
    "## append variable names with their respective units\n",
    "# rename 'bodytemp' to 'bodytemp_degF'\n",
    "cardiacdata <- rename(cardiacdata, bodytemp_degF = bodytemp)\n",
    "\n",
    "# rename 'heartrate' to 'heartrate_bpm'\n",
    "cardiacdata <- rename(cardiacdata, heartrate_bpm = heartrate)"
   ]
  },
  {
   "cell_type": "code",
   "execution_count": null,
   "id": "d9a1179e",
   "metadata": {},
   "outputs": [],
   "source": [
    "head(cardiacdata)"
   ]
  },
  {
   "cell_type": "code",
   "execution_count": null,
   "id": "04834ee4",
   "metadata": {},
   "outputs": [],
   "source": [
    "# add new column with body temperature in degrees celsius\n",
    "cardiacdata <- mutate(cardiacdata, bodytemp_degC = (bodytemp_degF - 32)*(5/9))"
   ]
  },
  {
   "cell_type": "code",
   "execution_count": null,
   "id": "9506650e",
   "metadata": {},
   "outputs": [],
   "source": [
    "# change values in gender column to read \"Female\" and \"Male\" instead of 1 and 2\n",
    "cardiacdata <- mutate(cardiacdata, gender = ifelse(gender == 1, 'Female', \n",
    "                                            ifelse(gender == 2, 'Male', NA)))"
   ]
  },
  {
   "cell_type": "code",
   "execution_count": null,
   "id": "569aced7",
   "metadata": {},
   "outputs": [],
   "source": [
    "head(cardiacdata)"
   ]
  },
  {
   "cell_type": "code",
   "execution_count": null,
   "id": "f77bb5f4",
   "metadata": {},
   "outputs": [],
   "source": [
    "# filter for data from female subjects only\n",
    "cardiacdata_female <- filter(cardiacdata, gender == 'Female')"
   ]
  },
  {
   "cell_type": "code",
   "execution_count": null,
   "id": "21566bcc",
   "metadata": {},
   "outputs": [],
   "source": [
    "cardiacdata <- cardiacdata %>%\n",
    "  filter(gender == 'Female') %>%\n",
    "  select(-gender) %>%\n",
    "  mutate(bodytemp_Kelvin = bodytemp_degC + 273)"
   ]
  },
  {
   "cell_type": "code",
   "execution_count": null,
   "id": "fd47c4aa",
   "metadata": {},
   "outputs": [],
   "source": [
    "head(cardiacdata)"
   ]
  },
  {
   "cell_type": "code",
   "execution_count": null,
   "id": "df9fd8a8",
   "metadata": {},
   "outputs": [],
   "source": [
    "cardiacdata_byGender <- cardiacdata %>%\n",
    "  group_by(gender) %>%\n",
    "  summarize(avg_bodytemp_degF = mean(bodytemp_degF),\n",
    "            avg_bodytemp_degC = mean(bodytemp_degC), \n",
    "            avg_heartrate_bpm = mean(heartrate_bpm))"
   ]
  },
  {
   "cell_type": "code",
   "execution_count": null,
   "id": "ce9d5e80",
   "metadata": {},
   "outputs": [],
   "source": [
    "some_numbers <- c(4,5,6,7,NA,8)"
   ]
  },
  {
   "cell_type": "code",
   "execution_count": null,
   "id": "57e5c6ed",
   "metadata": {},
   "outputs": [],
   "source": [
    "mean(some_numbers)"
   ]
  },
  {
   "cell_type": "code",
   "execution_count": null,
   "id": "903c6440",
   "metadata": {},
   "outputs": [],
   "source": [
    "mean(some_numbers, na.rm = TRUE)"
   ]
  },
  {
   "cell_type": "code",
   "execution_count": null,
   "id": "b0ae480a",
   "metadata": {},
   "outputs": [],
   "source": [
    "ggplot(data = cardiacdata, mapping = aes(x = bodytemp_degC)) + \n",
    "  geom_histogram(bins = 20)"
   ]
  },
  {
   "cell_type": "code",
   "execution_count": null,
   "id": "180dbe38",
   "metadata": {},
   "outputs": [],
   "source": [
    "ggplot(data = cardiacdata, mapping = aes(x = bodytemp_degC)) + \n",
    "  geom_histogram(bins = 20, aes(y = ..density..))"
   ]
  },
  {
   "cell_type": "code",
   "execution_count": null,
   "id": "f3f88ad4",
   "metadata": {},
   "outputs": [],
   "source": [
    "ggplot(data = cardiacdata, mapping = aes(x = bodytemp_degC)) + \n",
    "  geom_histogram(bins = 20, aes(y = ..density..), fill = 'lightblue') +\n",
    "  xlab('body temperature (celsius)') +\n",
    "  ggtitle('distribution of body temperatures') +\n",
    "  theme_light()"
   ]
  },
  {
   "cell_type": "code",
   "execution_count": null,
   "id": "a821481b",
   "metadata": {},
   "outputs": [],
   "source": [
    "ggplot(data = cardiacdata, mapping = aes(x = heartrate_bpm, y = bodytemp_degC)) + \n",
    "  geom_point() +\n",
    "  theme_light()"
   ]
  },
  {
   "cell_type": "code",
   "execution_count": null,
   "id": "64e0b814",
   "metadata": {},
   "outputs": [],
   "source": [
    "ggplot(data = cardiacdata, mapping = aes(x = heartrate_bpm, y = bodytemp_degC, color = gender)) + \n",
    "  geom_point() +\n",
    "  theme_light()"
   ]
  },
  {
   "cell_type": "code",
   "execution_count": null,
   "id": "1cfb463c",
   "metadata": {},
   "outputs": [],
   "source": [
    "ggplot(data = cardiacdata, mapping = aes(x = gender, y = bodytemp_degC)) +\n",
    "  geom_boxplot() +\n",
    "  xlab('gender') +\n",
    "  ylab('body temperature (celsius)') +\n",
    "  theme_light()"
   ]
  }
 ],
 "metadata": {
  "kernelspec": {
   "display_name": "Python 3 (ipykernel)",
   "language": "python",
   "name": "python3"
  },
  "language_info": {
   "codemirror_mode": {
    "name": "ipython",
    "version": 3
   },
   "file_extension": ".py",
   "mimetype": "text/x-python",
   "name": "python",
   "nbconvert_exporter": "python",
   "pygments_lexer": "ipython3",
   "version": "3.9.13"
  }
 },
 "nbformat": 4,
 "nbformat_minor": 5
}
